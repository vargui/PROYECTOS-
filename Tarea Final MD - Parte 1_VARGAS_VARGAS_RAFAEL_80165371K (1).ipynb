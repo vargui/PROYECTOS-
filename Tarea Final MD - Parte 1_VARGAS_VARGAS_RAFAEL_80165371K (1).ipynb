{
 "cells": [
  {
   "cell_type": "markdown",
   "id": "9cfffc38-827d-4faa-8ca5-337ecb8640e0",
   "metadata": {},
   "source": [
    "# PRACTICA EVALUACIÓN FINAL - PARTE I #\n",
    "\n",
    "Esta practica final tiene por objetivo evaluar los conocimientos que se han adquirido por parte del alumno a lo largo de los distintos temas del módulo. La práctica se divide en 2 partes: ésta primera parte que permite evaluar los temas de Data Understanding, Data Preparation, Regresión Lineal, Regresión Logística, Selección de variables, Análisis de componentes principales (PCA), Análisis Factorial y técnicas de clustering.\n",
    "\n",
    "Supone por tanto un 75% de la calificación correspondiente a la Prática de Evaluación Final completa incluyendo ambas partes. Por tanto la parte 2, incluirá ejercicios de evaluación de los temas de series temporales y por ello supondrá un 25%.\n",
    "\n",
    "En conjunto, toda la Práctica de Evaluación Final (ambas partes) tiene un peso del 60% de la nota final (el test de evaluación sería el 40% restante).\n",
    "\n",
    "Es importante tener presente que, dado que se va a utilizar el mismo conjunto de datos para evaluar distintos temas del módulo, se perseguirán objetivos distintos en distintas partes de esta práctica parte I. Por ejemplo, para el modelo de regresión lineal, se tomará como variable objetivo ***Salary***, mientras que para la regresión logística, la variable objetivo será ***Gender***. Se deberá tener presente esto especialmente a la hora de llevar a cabo toda la fase de entendimiento y preparación de los datos ya que habrá transformaciones y analisis que serán comunes para ambos modelos y otras que serán específicas de cada modelo. en este sentido, el alumno deberá organizarse como mejor considere para llevar a cabo la práctica siguiendo el guión establecido pero con cierta flexibilidad para incluir todo aquello que considere oportuno en el momento que considere oportuno.\n",
    "\n",
    "Por la misma razón, la parte de clustering no tiene variable objetivo como tal pero el analisis exploratorio y la preparación de los datos puede llevar a que haya particularidades para sus ejercicios además de las comunes.\n",
    "\n",
    "Comenzando con esta primera parte de la práctica, en el primer bloque de código, conviene cargar las librerías que se van a utilizar a lo largo del notebook."
   ]
  },
  {
   "cell_type": "code",
   "execution_count": null,
   "id": "c8fb6e17-68fa-49f0-90a2-a6a6c6627cfd",
   "metadata": {},
   "outputs": [],
   "source": [
    "\n",
    "\n"
   ]
  },
  {
   "cell_type": "code",
   "execution_count": 736,
   "id": "9b82ee26-645d-4fd4-8083-3361e7c09a1a",
   "metadata": {},
   "outputs": [],
   "source": [
    "import pandas as pd\n",
    "import numpy as np\n",
    "import matplotlib.pyplot as plt\n",
    "import seaborn as sns\n",
    "from sklearn.preprocessing import StandardScaler, MinMaxScaler, LabelEncoder\n",
    "from sklearn.linear_model import LinearRegression, LogisticRegression\n",
    "from sklearn.feature_selection import RFE\n",
    "from sklearn.decomposition import PCA\n",
    "from sklearn.decomposition import FactorAnalysis\n",
    "from sklearn.cluster import KMeans, DBSCAN\n",
    "from scipy.cluster.hierarchy import dendrogram, linkage\n",
    "from sklearn.metrics import mean_squared_error, accuracy_score, silhouette_score\n",
    "from sklearn.model_selection import train_test_split\n",
    "from scipy.stats import chi2_contingency\n",
    "from scipy import stats\n",
    "import statsmodels.api as sm\n",
    "from sklearn.model_selection import KFold"
   ]
  },
  {
   "cell_type": "markdown",
   "id": "a0a9eb8b-7fb3-4119-848b-f3600ee59a33",
   "metadata": {},
   "source": [
    "En el siguiente paso vamos a proceder a cargar el fichero Salary_MD.csv que servirá como conjunto de datos para llevar a cabo toda la evaluación de esta parte I. Se trata de un fichero en el que cada registro es un empleado y sobre él, cada campo aporta información laboral y de formación."
   ]
  },
  {
   "cell_type": "code",
   "execution_count": 738,
   "id": "7d77c255-7b9d-48cf-af6e-a03c876ca761",
   "metadata": {},
   "outputs": [],
   "source": [
    "# Cargar el fichero de datos en un DataFrame"
   ]
  },
  {
   "cell_type": "code",
   "execution_count": 739,
   "id": "ba0ba1a0-9570-403b-8530-fddd259f3fc4",
   "metadata": {},
   "outputs": [],
   "source": [
    "ruta = r\"C:\\Users\\Usuario\\Desktop\\Salary_MD.csv\" \n",
    "df = pd.read_csv(ruta)"
   ]
  },
  {
   "cell_type": "markdown",
   "id": "604eeb2d-644a-463a-ad99-1c568623d953",
   "metadata": {},
   "source": [
    "En los siguientes bloques de código el alumno debe programar las sentencias de código que considere oportunas para hacerse una idea general de los datos y de las variables. Visualización de datos, gráficos, etc. Los bloques son orientativos, el alumno puede añadir cuantos considere y codificarlos según su criterio."
   ]
  },
  {
   "cell_type": "code",
   "execution_count": 741,
   "id": "4807ac0c-2fbd-432f-a8d5-382f55244249",
   "metadata": {},
   "outputs": [],
   "source": [
    "# Mostrar los 10 primeros registros"
   ]
  },
  {
   "cell_type": "code",
   "execution_count": 742,
   "id": "b0692290-e614-4786-bb16-c58fa37f3b27",
   "metadata": {},
   "outputs": [
    {
     "name": "stdout",
     "output_type": "stream",
     "text": [
      "   Age  Gender  Education Level              Job Title  Years of Experience  \\\n",
      "0   32    Male            1.000      Software Engineer                5.000   \n",
      "1   28  Female            2.000           Data Analyst                3.000   \n",
      "2   45    Male            3.000                Manager               15.000   \n",
      "3   36  Female            1.000        Sales Associate                7.000   \n",
      "4   52    Male            2.000               Director               20.000   \n",
      "5   29    Male            1.000      Marketing Analyst                2.000   \n",
      "6   42  Female            2.000        Product Manager               12.000   \n",
      "7   31    Male            1.000          Sales Manager                4.000   \n",
      "8   26  Female            1.000  Marketing Coordinator                1.000   \n",
      "9   38    Male            3.000              Scientist               10.000   \n",
      "\n",
      "   Salary    Country        Race  Senior  \n",
      "0   90000         UK       White       0  \n",
      "1   65000        USA         NaN       0  \n",
      "2  150000     Canada       White       1  \n",
      "3   60000        USA    Hispanic       0  \n",
      "4  200000        USA       Asian       0  \n",
      "5   55000        USA    Hispanic       0  \n",
      "6  120000        USA       Asian       0  \n",
      "7   80000      China      Korean       0  \n",
      "8   45000      China     Chinese       0  \n",
      "9  110000  Australia  Australian       1  \n"
     ]
    }
   ],
   "source": [
    "print(df.head(10))"
   ]
  },
  {
   "cell_type": "code",
   "execution_count": 743,
   "id": "008315f0-72cb-4286-98d8-2cd019735ed2",
   "metadata": {},
   "outputs": [],
   "source": [
    "# Describir el DataFrame"
   ]
  },
  {
   "cell_type": "raw",
   "id": "cced703e-437d-427a-8ea6-311def33339c",
   "metadata": {},
   "source": [
    "Podemos ver que este Dataset contiene diferentes registros de características personales de diferentes individuos, clasificando por edad, género, nivel de educación alcanzado, puesto laboral que ocupan, años de experiencia, salario, país, Raza, y un último campo llamado \"Senior\" referido a si ocupan un puesto laboral calificado como Senior o no dentro de la característica booleana que tiene esta variable. "
   ]
  },
  {
   "cell_type": "code",
   "execution_count": 744,
   "id": "1b32ef96-f9cc-4d29-91d1-d608dfceeae2",
   "metadata": {},
   "outputs": [],
   "source": [
    "# Mostrar las columnas y tipos de datos"
   ]
  },
  {
   "cell_type": "code",
   "execution_count": 745,
   "id": "196afb2b-0f97-45f7-847c-90b8433fbe93",
   "metadata": {},
   "outputs": [
    {
     "name": "stdout",
     "output_type": "stream",
     "text": [
      "Age                      int64\n",
      "Gender                  object\n",
      "Education Level        float64\n",
      "Job Title               object\n",
      "Years of Experience    float64\n",
      "Salary                   int64\n",
      "Country                 object\n",
      "Race                    object\n",
      "Senior                   int64\n",
      "dtype: object\n"
     ]
    }
   ],
   "source": [
    "print(df.dtypes)"
   ]
  },
  {
   "cell_type": "markdown",
   "id": "e058c940-fbc6-46a2-a51e-a0a065384c9c",
   "metadata": {},
   "source": [
    "### Pregunta 1 ###\n",
    "De este primer vistazo general, ¿qué conclusiones sacamos acerca de las variables ***Salary*** y ***Years of Experience***? ¿Qué características tiene la variable ***Job Title***?"
   ]
  },
  {
   "cell_type": "markdown",
   "id": "1b3d845e-529b-4f62-b28e-45cf90f2f1fb",
   "metadata": {},
   "source": [
    "***Respuesta:***"
   ]
  },
  {
   "cell_type": "markdown",
   "id": "3d996a57-6161-4f54-9da7-d6fdc4d3f060",
   "metadata": {},
   "source": [
    "A primera vista, podemos ver que conforme aumenta la variable Years of Experience también lo hace la variable Salary entonces podemos deducir que en principio, tienen una relación directa. La variable Job Title es una variable categórica que puede tener muchos valores distintos o incluso diferentes nombres para el mismo puesto de trabajo lo que se traduce como una alta cardinalidad. "
   ]
  },
  {
   "cell_type": "markdown",
   "id": "a985b1bc-dc7b-435f-9d5b-2cfa55d4d4d8",
   "metadata": {},
   "source": [
    "Pasamos ahora a profundizar aún más en las variables a través de las relaciones entre ellas. El alumno debe analizar correlaciones y las relaciones entre categóricas o categoricas y númericas."
   ]
  },
  {
   "cell_type": "code",
   "execution_count": 750,
   "id": "508e52db-41c2-45b3-9519-4ab367fb09bc",
   "metadata": {},
   "outputs": [],
   "source": [
    "# Calcular la matriz de correlación"
   ]
  },
  {
   "cell_type": "code",
   "execution_count": 751,
   "id": "17ac00d5-4fb4-44ac-8f42-fbb29bf540f5",
   "metadata": {},
   "outputs": [
    {
     "data": {
      "image/png": "[encoded data removed]",
      "text/plain": [
       "<Figure size 1000x800 with 2 Axes>"
      ]
     },
     "metadata": {},
     "output_type": "display_data"
    }
   ],
   "source": [
    "numeric_columns = df.select_dtypes(include=['int64', 'float64'])\n",
    "correlation_matrix = numeric_columns.corr()\n",
    "plt.figure(figsize=(10, 8))\n",
    "sns.heatmap(correlation_matrix, annot=True, cmap='coolwarm', fmt='.2f')\n",
    "plt.title('Matriz de Correlación')\n",
    "plt.show()\n"
   ]
  },
  {
   "cell_type": "code",
   "execution_count": 752,
   "id": "29981f28-3537-4e00-a4fe-b338fe15168a",
   "metadata": {},
   "outputs": [],
   "source": [
    "# Calcular la matriz de coeficientes V de Cramér"
   ]
  },
  {
   "cell_type": "code",
   "execution_count": 753,
   "id": "7f2f1836-2050-4b97-bc5f-91231099ba2c",
   "metadata": {},
   "outputs": [
    {
     "data": {
      "image/png": "[encoded data removed]",
      "text/plain": [
       "<Figure size 1000x800 with 2 Axes>"
      ]
     },
     "metadata": {},
     "output_type": "display_data"
    }
   ],
   "source": [
    "categorical_columns = df.select_dtypes(include=['object', 'category']).columns\n",
    "def cramers_v(x, y):\n",
    "    confusion_matrix = pd.crosstab(x, y)\n",
    "    chi2, _, _, _ = chi2_contingency(confusion_matrix)\n",
    "    n = confusion_matrix.sum().sum()\n",
    "    phi2 = chi2 / n\n",
    "    r, k = confusion_matrix.shape\n",
    "    phi2corr = max(0, phi2 - ((k-1)*(r-1))/(n-1))\n",
    "    rcorr = r - ((r-1)**2)/(n-1)\n",
    "    kcorr = k - ((k-1)**2)/(n-1)\n",
    "    return np.sqrt(phi2corr / min((kcorr-1), (rcorr-1)))\n",
    "n = len(categorical_columns)\n",
    "cramer_matrix = np.zeros((n, n))\n",
    "for i in range(n):\n",
    "    for j in range(n):\n",
    "        cramer_matrix[i, j] = cramers_v(df[categorical_columns[i]], df[categorical_columns[j]])\n",
    "cramer_df = pd.DataFrame(cramer_matrix, index=categorical_columns, columns=categorical_columns)\n",
    "plt.figure(figsize=(10, 8))\n",
    "sns.heatmap(cramer_df, annot=True, cmap='coolwarm', fmt='.2f')\n",
    "plt.title('Matriz de V de Cramer')\n",
    "plt.show()"
   ]
  },
  {
   "cell_type": "markdown",
   "id": "a94d9c9e-af3d-46d6-b59c-dd8ea84e3bbd",
   "metadata": {},
   "source": [
    "### Pregunta 2 ###\n",
    "¿Cualés son las relaciones más destacadas entre variables? Describe estas relaciones e interpretalas brevemente."
   ]
  },
  {
   "cell_type": "markdown",
   "id": "9c846f59-40ad-4915-8836-066e1dff7e68",
   "metadata": {},
   "source": [
    "***Respuesta:***"
   ]
  },
  {
   "cell_type": "markdown",
   "id": "524b9cff-f7c6-4440-8c27-d323729587f2",
   "metadata": {},
   "source": [
    " Dentro de la matriz de correlación:\n",
    " 1. Years of Experience-Age, tiene sentido que a mayor cantidad de años de experiencia, sea mayor la edad del empleado.\n",
    " 2. Education Level-Age, conforme mayor sea la edad es más probable que el usuario tenga una mayor formación en su nivel de estudios.\n",
    " 3. Years of Experience-Education Level, de la misma manera a mayor nivel de estudios tiene sentido que se tenga una mayor trayectoria laboral de manera estable y continuada.\n",
    " 4. Salary-Education Level, conforme mayor nivel de estudios cabe dentro de la normalidad que el salario sea mayor.\n",
    " 5. Salary-Years of Experience, de la misma manera que antes conforme más años de experiencia en el puesto se obtiene un mayor salario. \n",
    "\n",
    " Dentro de la matriz de coeficientes de V de Cramer:\n",
    " 1. Country-Race, los rasgos de la etnia y el país de cada persona suelen estar muy relacionado entre sí.\n",
    " 2. Gender-Job Tlte, al parecer dentro del dataset existe cierta relación entre el puesto de trabajo y el género del empleado, esto puede ser debido que ciertos puestos de trabajo suelen tener mas afluencia de un genero u otro pero hay que investigarlo. \n"
   ]
  },
  {
   "cell_type": "markdown",
   "id": "fb2f81c2-5b62-4b14-a965-209aaf9a341b",
   "metadata": {},
   "source": [
    "Nos centramos ahora en la calidad del dato. Arrancamos con el analisis de valores nulos donde el alumno debe programar código para determinar las variables que tienen valores nulos, el número de registros de cada variable con valores nulos, etc."
   ]
  },
  {
   "cell_type": "code",
   "execution_count": 758,
   "id": "b44d51ef-10d7-4d04-bdb1-48a7159caac0",
   "metadata": {},
   "outputs": [],
   "source": [
    "# Tabla de porcentaje de registros con Missing Values por cada variable"
   ]
  },
  {
   "cell_type": "code",
   "execution_count": 759,
   "id": "96cf14da-6efb-4666-a9b5-5e4299bbb8aa",
   "metadata": {},
   "outputs": [
    {
     "name": "stdout",
     "output_type": "stream",
     "text": [
      "                     Nulos  Porcentaje (%)\n",
      "Age                      0           0.000\n",
      "Gender                  71           1.062\n",
      "Education Level         23           0.344\n",
      "Job Title               40           0.598\n",
      "Years of Experience      0           0.000\n",
      "Salary                   0           0.000\n",
      "Country                 24           0.359\n",
      "Race                   163           2.439\n",
      "Senior                   0           0.000\n"
     ]
    }
   ],
   "source": [
    "missing_values = df.isnull().sum()\n",
    "missing_percentage = (missing_values / len(df)) * 100  \n",
    "missing_table = pd.DataFrame({\n",
    "    'Nulos': missing_values,\n",
    "    'Porcentaje (%)': missing_percentage\n",
    "})\n",
    "print(missing_table)"
   ]
  },
  {
   "cell_type": "code",
   "execution_count": 760,
   "id": "7714902f-a92e-4e7f-9df2-791a8bcdd97a",
   "metadata": {},
   "outputs": [],
   "source": [
    "# Cuenta de valores nulos por registro"
   ]
  },
  {
   "cell_type": "code",
   "execution_count": 761,
   "id": "825259fc-fe63-4438-adbb-8c5df1408ded",
   "metadata": {},
   "outputs": [
    {
     "name": "stdout",
     "output_type": "stream",
     "text": [
      "Missing_Count\n",
      "0    6461\n",
      "1     161\n",
      "2      32\n",
      "3      24\n",
      "4       6\n",
      "Name: count, dtype: int64\n"
     ]
    }
   ],
   "source": [
    "df['Missing_Count'] = df.isnull().sum(axis=1)\n",
    "print(df['Missing_Count'].value_counts())"
   ]
  },
  {
   "cell_type": "markdown",
   "id": "ca7b6b79-c002-4472-91a1-19b96bb30c02",
   "metadata": {},
   "source": [
    "### Pregunta 3 ###\n",
    "¿Éxiste algún tipo de relación entre los valores nulos de la variable ***Gender*** y ***Salary***? Los nulos de ***Gender***, para esta práctica, hay que llevar a cabo algún tipo de imputación para no perder esos registros. ¿Cómo se realizará está imputación y cuales son las razones que llevan a hacerlo así?"
   ]
  },
  {
   "cell_type": "markdown",
   "id": "2c610cb9-7813-42e3-8954-f6fb7f10dc78",
   "metadata": {},
   "source": [
    "***Respuesta:***"
   ]
  },
  {
   "cell_type": "markdown",
   "id": "fd0e82d8-ee13-4bf0-8140-ea028891b44b",
   "metadata": {},
   "source": [
    "Existe cierta relación en aquellos registros con un Salary alto por encima del promedio es donde se registran los valores nulos dentro de la variable Gender. Considero que la imputación de estos nulos la podemos realizar según la moda ya que de este modo no eliminamos registros y mantenemos la coherencia además de ser un método rápido y sencillo de aplicar. "
   ]
  },
  {
   "cell_type": "markdown",
   "id": "99754770-d3c6-49f5-9622-8a71cb044d88",
   "metadata": {},
   "source": [
    "Antes de pasar a ejecutar las acciones que hayamos decidido realizar para corregir los problemas de valores nulos, analizamos los valores atípicos de las variables. Utilizaremos 2 métodos para identificarlos: Z-Score y rango intercuartil (IQR)"
   ]
  },
  {
   "cell_type": "code",
   "execution_count": 766,
   "id": "29520812-e1ab-42ef-9c0f-ae1c64db0353",
   "metadata": {},
   "outputs": [],
   "source": [
    "# Identificación de outliers (z-score)"
   ]
  },
  {
   "cell_type": "code",
   "execution_count": 767,
   "id": "a0f7c9fc-cf06-467d-92d3-e4bea5902b99",
   "metadata": {},
   "outputs": [
    {
     "name": "stdout",
     "output_type": "stream",
     "text": [
      "                     Valores Atípicos (Z-Score)\n",
      "Age                                         110\n",
      "Education Level                               0\n",
      "Years of Experience                          28\n",
      "Salary                                        8\n",
      "Senior                                        0\n",
      "Missing_Count                               223\n"
     ]
    }
   ],
   "source": [
    "z_scores = np.abs(stats.zscore(df.select_dtypes(include=['number'])))\n",
    "outliers_zscore = (z_scores > 3)\n",
    "print(pd.DataFrame(outliers_zscore.sum(), columns=['Valores Atípicos (Z-Score)']))"
   ]
  },
  {
   "cell_type": "code",
   "execution_count": 768,
   "id": "47fc2a56-0537-4f09-8474-94e914faaf2b",
   "metadata": {},
   "outputs": [],
   "source": [
    "# Identificación de outliers (IQR)"
   ]
  },
  {
   "cell_type": "code",
   "execution_count": 769,
   "id": "2956ebc5-8c9d-4f0d-8f4b-6f628b5e99e3",
   "metadata": {},
   "outputs": [
    {
     "name": "stdout",
     "output_type": "stream",
     "text": [
      "                     Valores Atípicos (IQR)\n",
      "Age                                     217\n",
      "Education Level                           0\n",
      "Years of Experience                      76\n",
      "Salary                                    8\n",
      "Senior                                  959\n",
      "Missing_Count                           223\n"
     ]
    }
   ],
   "source": [
    "df_num = df.select_dtypes(include=['number'])\n",
    "Q1 = df_num.quantile(0.25)\n",
    "Q3 = df_num.quantile(0.75)\n",
    "IQR = Q3 - Q1\n",
    "outliers_iqr = (df_num < (Q1 - 1.5 * IQR)) | (df_num > (Q3 + 1.5 * IQR))\n",
    "print(pd.DataFrame(outliers_iqr.sum(), columns=['Valores Atípicos (IQR)']))\n",
    "\n"
   ]
  },
  {
   "cell_type": "markdown",
   "id": "977f4d41-7e18-4deb-9117-7c326645d822",
   "metadata": {},
   "source": [
    "### Pregunta 4 ###\n",
    "¿Qué variables tienen outliers? en ocasiones, dependiendo de los outliers de una variable, es más apropiado identificarlos mediante un método u otro. En tu opinión y en base al estudio de los outliers de cada variable numérica, ¿cuál es el más apropiado para cada una y por qué?"
   ]
  },
  {
   "cell_type": "markdown",
   "id": "9dcc7e81-d51f-42a3-aea1-03acca5c32b6",
   "metadata": {},
   "source": [
    "***Respuesta:***"
   ]
  },
  {
   "cell_type": "markdown",
   "id": "8ed2304c-c85b-49bd-8442-a2444826e327",
   "metadata": {},
   "source": [
    "Las variables que tienen ouliers son Age, Years of Experience, Salary y Senior.\n",
    "\n",
    "Para Senior, Age y Years of Experience es mejor utilizar IQR porque poseen valores extremos e indica que no sigue una distribución normal. \n",
    "Para Salary es mejor utilizar z-score ya que los outliers son pocos y es más probable que sigan una distribución normal."
   ]
  },
  {
   "cell_type": "markdown",
   "id": "727b8515-7988-4ab8-8947-3ff95e94fc7a",
   "metadata": {},
   "source": [
    "Ahora procedemos a trabajar los datos seleccionando registros, variables y solventando los problemas de outliers y valores nulos para dejar preparado el conjunto de datos para la fase de modelado posterior. En este sentido, las siguientes líneas de código, deben programarse para realizar estas transformaciones."
   ]
  },
  {
   "cell_type": "code",
   "execution_count": 774,
   "id": "a99a4b0b-5351-44db-af51-f2a265b09b9c",
   "metadata": {},
   "outputs": [],
   "source": [
    "\n",
    "columns_to_drop = []  \n",
    "df_cleaned = df.drop(columns=columns_to_drop)\n"
   ]
  },
  {
   "cell_type": "code",
   "execution_count": 775,
   "id": "6857be39-379f-499c-b7c8-cdf54a27310e",
   "metadata": {},
   "outputs": [],
   "source": [
    "# Imputación o acciones para tratar valores nulos\n",
    "for col in df.select_dtypes(include=['object']).columns:\n",
    "    df.loc[:, col] = df[col].fillna(df[col].mode()[0])  \n",
    "for col in df.select_dtypes(include=['number']).columns:\n",
    "    if df[col].skew() > 1: \n",
    "        df.loc[:, col] = df[col].fillna(df[col].median())  \n",
    "    else:  \n",
    "        df.loc[:, col] = df[col].fillna(df[col].mean())  "
   ]
  },
  {
   "cell_type": "code",
   "execution_count": 776,
   "id": "f4bb65df-1bfa-44d0-bf8e-c1d944fdbf21",
   "metadata": {},
   "outputs": [],
   "source": [
    "# Imputación o transformación de valores atípicos"
   ]
  },
  {
   "cell_type": "code",
   "execution_count": 777,
   "id": "dc1554b5-246e-4663-a416-b616be0367ec",
   "metadata": {},
   "outputs": [],
   "source": [
    "# Método IQR para Senior, Age, Years of Experience\n",
    "Q1 = df_cleaned[['Senior', 'Age', 'Years of Experience']].quantile(0.25)\n",
    "Q3 = df_cleaned[['Senior', 'Age', 'Years of Experience']].quantile(0.75)\n",
    "IQR = Q3 - Q1\n",
    "\n",
    "# Definir límites\n",
    "lower_bound = Q1 - 1.5 * IQR\n",
    "upper_bound = Q3 + 1.5 * IQR\n",
    "\n",
    "# Reemplazar outliers con los límites inferiores/superiores\n",
    "for col in ['Senior', 'Age', 'Years of Experience']:\n",
    "    df_cleaned[col] = np.where(df_cleaned[col] < lower_bound[col], lower_bound[col], df_cleaned[col])\n",
    "    df_cleaned[col] = np.where(df_cleaned[col] > upper_bound[col], upper_bound[col], df_cleaned[col])\n",
    "\n",
    "# Método Z-Score para Salary\n",
    "z_scores = np.abs(stats.zscore(df_cleaned['Salary']))\n",
    "df_cleaned = df_cleaned[(z_scores < 3)]\n"
   ]
  },
  {
   "cell_type": "code",
   "execution_count": 778,
   "id": "fb56a96d-629a-43d8-ac29-a83f5e7b5bed",
   "metadata": {},
   "outputs": [
    {
     "name": "stdout",
     "output_type": "stream",
     "text": [
      "Age                      0\n",
      "Gender                  71\n",
      "Education Level         23\n",
      "Job Title               40\n",
      "Years of Experience      0\n",
      "Salary                   0\n",
      "Country                 24\n",
      "Race                   163\n",
      "Senior                   0\n",
      "Missing_Count            0\n",
      "dtype: int64\n",
      "           Age  Education Level  Years of Experience     Salary   Senior  \\\n",
      "count 6676.000         6653.000             6676.000   6676.000 6676.000   \n",
      "mean    33.299            1.624                8.026 115079.450    0.000   \n",
      "std      7.789            0.880                5.939  53051.395    0.000   \n",
      "min     13.000            0.000                0.000      0.000    0.000   \n",
      "25%     28.000            1.000                3.000  70000.000    0.000   \n",
      "50%     32.000            1.000                7.000 115000.000    0.000   \n",
      "75%     38.000            2.000               12.000 160000.000    0.000   \n",
      "max     53.000            3.000               25.500 250000.000    0.000   \n",
      "\n",
      "       Missing_Count  \n",
      "count       6676.000  \n",
      "mean           0.048  \n",
      "std            0.296  \n",
      "min            0.000  \n",
      "25%            0.000  \n",
      "50%            0.000  \n",
      "75%            0.000  \n",
      "max            4.000  \n"
     ]
    }
   ],
   "source": [
    "\n",
    "print(df_cleaned.isnull().sum())\n",
    "\n",
    "\n",
    "print(df_cleaned.describe())\n"
   ]
  },
  {
   "cell_type": "markdown",
   "id": "85a3db8f-6b72-4038-8bf4-8aa562b8e1d6",
   "metadata": {},
   "source": [
    "### Pregunta 5 ###\n",
    "¿cómo han sido tratados los valores átipicos de la variable ***Salary*** y por qué se ha tomado esta decisión?"
   ]
  },
  {
   "cell_type": "markdown",
   "id": "0f8515fc-95ae-4863-a385-1516acfa85ff",
   "metadata": {},
   "source": [
    "***Respuesta:***"
   ]
  },
  {
   "cell_type": "markdown",
   "id": "a6a4f86d-c401-40aa-92c4-0579d2b775c1",
   "metadata": {},
   "source": [
    "Se ha utilizado el método z-score ya que la media y la mediana son muy cercanas por lo tanto la media es representativa y un reemplazo con la media es adecuado. "
   ]
  },
  {
   "cell_type": "markdown",
   "id": "3a456372-01ce-4903-b0b7-0a0d7531c55f",
   "metadata": {},
   "source": [
    "A continuación en los siguientes bloques de código, se han de llevar a cabo ciertas transformaciones que conviene realizar sobre los datos para dejarlos depurados y preparados para la fase de modelado. En este sentido, transformaciones de variables númericas para buscar mayor relación con la variable objetivo, recategorización de variables categóricas, estandarización, homogeneización de formatos y unidades, etc."
   ]
  },
  {
   "cell_type": "code",
   "execution_count": 783,
   "id": "ba065d6d-1320-405f-bff0-76953884ef1a",
   "metadata": {},
   "outputs": [],
   "source": [
    "# Recategorización..."
   ]
  },
  {
   "cell_type": "code",
   "execution_count": 784,
   "id": "96c585aa-010c-4754-84b8-0d16642c8f12",
   "metadata": {},
   "outputs": [],
   "source": [
    "# Estandarización..."
   ]
  },
  {
   "cell_type": "code",
   "execution_count": 785,
   "id": "185c94fd-b832-4369-8781-7f6130b569e3",
   "metadata": {},
   "outputs": [],
   "source": [
    "# Tipos de valores..."
   ]
  },
  {
   "cell_type": "code",
   "execution_count": 786,
   "id": "0f8d7924-5300-40c9-8bf5-3119f7202d70",
   "metadata": {},
   "outputs": [],
   "source": [
    "# Codificación..."
   ]
  },
  {
   "cell_type": "code",
   "execution_count": 787,
   "id": "253d7070-e952-4451-93c4-080386e238cd",
   "metadata": {},
   "outputs": [
    {
     "name": "stdout",
     "output_type": "stream",
     "text": [
      "     Age  Gender  Education Level  Job Title  Years of Experience  Salary  \\\n",
      "0 -0.133   0.893            1.000      1.176               -0.430  -0.392   \n",
      "1 -0.597  -1.120            2.000     -2.525               -0.702  -0.763   \n",
      "2  1.375   0.893            3.000     -0.057                0.930   0.498   \n",
      "3  0.331  -1.120            1.000     -0.057               -0.158  -0.838   \n",
      "4  2.187   0.893            2.000     -0.057                1.609   1.240   \n",
      "\n",
      "   Country   Race  Senior  Missing_Count  \n",
      "0    0.694  1.094  -0.409         -0.162  \n",
      "1    1.399  1.094  -0.409          3.216  \n",
      "2   -0.716  1.094   2.443         -0.162  \n",
      "3    1.399  0.706  -0.409         -0.162  \n",
      "4    1.399 -1.233  -0.409         -0.162  \n"
     ]
    }
   ],
   "source": [
    "\n",
    "\n",
    "for col in df.columns:\n",
    "    if df[col].dtype == 'object':\n",
    "        try:\n",
    "            df[col] = pd.to_numeric(df[col])\n",
    "        except:\n",
    "            pass  \n",
    "\n",
    "\n",
    "for col in df.select_dtypes(include=['object']).columns:\n",
    "    freq = df[col].value_counts(normalize=True)  \n",
    "    rare_categories = freq[freq < 0.05].index  \n",
    "    df[col] = df[col].replace(rare_categories, 'Other')  \n",
    "\n",
    "\n",
    "label_encoders = {}  \n",
    "for col in df.select_dtypes(include=['object']).columns:\n",
    "    le = LabelEncoder()\n",
    "    df[col] = le.fit_transform(df[col])  \n",
    "    label_encoders[col] = le  \n",
    "\n",
    "\n",
    "scaler = StandardScaler()\n",
    "\n",
    "\n",
    "num_cols = df.select_dtypes(include=['number']).columns\n",
    "num_cols = num_cols.drop('Education Level', errors='ignore')  \n",
    "\n",
    "\n",
    "df[num_cols] = scaler.fit_transform(df[num_cols])\n",
    "\n",
    "print(df.head())  \n"
   ]
  },
  {
   "cell_type": "markdown",
   "id": "fae5dba4-b94d-4a28-8b80-ba67af9ccf73",
   "metadata": {},
   "source": [
    "### Pregunta 6 ###\n",
    "En caso de que se haya llevado a cabo algún tratamiento sobre las variables categóricas, ¿qué acciones se han tomado y sobre qué variables? En el caso de la variable ***Education Level***, ¿Se ha llevado a cabo sobre ella alguna transformación o se ha dejado tal cual?¿Por qué?"
   ]
  },
  {
   "cell_type": "markdown",
   "id": "aeca6232-81e4-41d5-b3df-6c6737df8c55",
   "metadata": {},
   "source": [
    "En las variables de Job Title y Department se han agrupado los registros con poca frecuencia. Las variables categóricas se han convertido a numéricas como puede ser en Gender, Job Title y Department convirtiendolos con LabelEncoder y Education Level no ha sido tranformado ya que se puede utilizar como dato para una regresión lineal. "
   ]
  },
  {
   "cell_type": "markdown",
   "id": "d48d76a5-d135-4963-9008-ae78594e6e86",
   "metadata": {},
   "source": [
    "En primer lugar se agrupan las categorías que poseen baja frecuencia para que no generen ruido en el momento de modelizar y se han codificado las variables categóricas. La variable Education Level se ha codificado ya que tiene pocas categorías y de esta manera se preserva la información para el modelo."
   ]
  },
  {
   "cell_type": "markdown",
   "id": "4857b01c-8f54-40f8-8a70-686d1a98b28b",
   "metadata": {},
   "source": [
    "Procedemos ahora con el primer modelo que vamos a definir con este conjunto de datos. Se trata de un modelo de regresión lineal que tratará de predecir los valores de la variable ***Salary*** en función de las demás variables."
   ]
  },
  {
   "cell_type": "markdown",
   "id": "f8666505-6abe-4630-afc5-488d52c3ee70",
   "metadata": {},
   "source": [
    "Hasta aquí se habrán realizado diversas transformaciones y preparaciones de los datos comunes para todos los ejercicios de esta práctica. En los siguientes bloques, añadir transformaciones específicas para este modelo de regresión lineal."
   ]
  },
  {
   "cell_type": "code",
   "execution_count": 793,
   "id": "c410efd1-9960-4106-a758-a49bbcd2a726",
   "metadata": {},
   "outputs": [],
   "source": [
    "irrelevant_vars = [\"Country\",\"Race\"]  \n",
    "df.drop(columns=irrelevant_vars, inplace=True, errors=\"ignore\")\n"
   ]
  },
  {
   "cell_type": "code",
   "execution_count": 794,
   "id": "627d3230-df2e-4061-b4cd-feba37945abe",
   "metadata": {},
   "outputs": [],
   "source": [
    "# ..."
   ]
  },
  {
   "cell_type": "markdown",
   "id": "e4b3e96a-c6ab-49b2-880a-1af00a492974",
   "metadata": {},
   "source": [
    "Ahora procedemos a realizar la separación del conjunto de datos en 2 conjuntos: uno con las variables predictoras y otro con la variable objetivo. También separamos en conjuntos de entrenamiento y test para poder llevar a cabo el entrenamiento del modelo y la validación en conjuntos distintos. Escoged el porcentaje de datos para entrenamiento que se considere adecuado. Por último, entrenar un modelo de regresión lineal mostrando un resumen de los parametros, coeficientes y demás información útil para valorar la bondad del modelo entrenado."
   ]
  },
  {
   "cell_type": "code",
   "execution_count": 796,
   "id": "4b47e1cb-1318-4d9e-af07-da22e356b4f5",
   "metadata": {},
   "outputs": [],
   "source": [
    "\n",
    "Q1 = df['Salary'].quantile(0.05)\n",
    "Q3 = df['Salary'].quantile(0.95)\n",
    "\n",
    "df['Salary'] = np.where(df['Salary'] < Q1, Q1, df['Salary'])\n",
    "df['Salary'] = np.where(df['Salary'] > Q3, Q3, df['Salary'])\n",
    "\n",
    "\n",
    "if df['Salary'].skew() > 1:\n",
    "    df['Salary'] = np.log1p(df['Salary'])\n"
   ]
  },
  {
   "cell_type": "code",
   "execution_count": 797,
   "id": "ce381a3b-2d76-4f62-9829-6b79bf335669",
   "metadata": {},
   "outputs": [],
   "source": [
    "# Definir la variable objetivo (y) y las predictoras (X)\n",
    "y = df[\"Salary\"]\n",
    "X = df.drop(columns=[\"Salary\"])\n"
   ]
  },
  {
   "cell_type": "code",
   "execution_count": 798,
   "id": "18d28cb9-012a-4067-88f8-4b604708d138",
   "metadata": {},
   "outputs": [],
   "source": [
    "# Dividir los datos en entrenamiento y prueba\n",
    "X_train, X_test, y_train, y_test = train_test_split(X, y, test_size=0.2, random_state=42)\n"
   ]
  },
  {
   "cell_type": "code",
   "execution_count": 799,
   "id": "d54c23a9-5a47-4c9b-9ec8-0137ada7bb4b",
   "metadata": {
    "scrolled": true
   },
   "outputs": [
    {
     "data": {
      "text/html": [
       "<div>\n",
       "<style scoped>\n",
       "    .dataframe tbody tr th:only-of-type {\n",
       "        vertical-align: middle;\n",
       "    }\n",
       "\n",
       "    .dataframe tbody tr th {\n",
       "        vertical-align: top;\n",
       "    }\n",
       "\n",
       "    .dataframe thead th {\n",
       "        text-align: right;\n",
       "    }\n",
       "</style>\n",
       "<table border=\"1\" class=\"dataframe\">\n",
       "  <thead>\n",
       "    <tr style=\"text-align: right;\">\n",
       "      <th></th>\n",
       "      <th>Variable</th>\n",
       "      <th>Coeficiente</th>\n",
       "    </tr>\n",
       "  </thead>\n",
       "  <tbody>\n",
       "    <tr>\n",
       "      <th>4</th>\n",
       "      <td>Years of Experience</td>\n",
       "      <td>0.349</td>\n",
       "    </tr>\n",
       "    <tr>\n",
       "      <th>2</th>\n",
       "      <td>Education Level</td>\n",
       "      <td>0.285</td>\n",
       "    </tr>\n",
       "    <tr>\n",
       "      <th>0</th>\n",
       "      <td>Age</td>\n",
       "      <td>0.140</td>\n",
       "    </tr>\n",
       "    <tr>\n",
       "      <th>1</th>\n",
       "      <td>Gender</td>\n",
       "      <td>0.049</td>\n",
       "    </tr>\n",
       "    <tr>\n",
       "      <th>6</th>\n",
       "      <td>Missing_Count</td>\n",
       "      <td>0.023</td>\n",
       "    </tr>\n",
       "    <tr>\n",
       "      <th>5</th>\n",
       "      <td>Senior</td>\n",
       "      <td>-0.030</td>\n",
       "    </tr>\n",
       "    <tr>\n",
       "      <th>3</th>\n",
       "      <td>Job Title</td>\n",
       "      <td>-0.043</td>\n",
       "    </tr>\n",
       "  </tbody>\n",
       "</table>\n",
       "</div>"
      ],
      "text/plain": [
       "              Variable  Coeficiente\n",
       "4  Years of Experience        0.349\n",
       "2      Education Level        0.285\n",
       "0                  Age        0.140\n",
       "1               Gender        0.049\n",
       "6        Missing_Count        0.023\n",
       "5               Senior       -0.030\n",
       "3            Job Title       -0.043"
      ]
     },
     "execution_count": 799,
     "metadata": {},
     "output_type": "execute_result"
    }
   ],
   "source": [
    "# Crear y ajustar el modelo\n",
    "model = LinearRegression()\n",
    "model.fit(X_train, y_train)\n",
    "coef_df = pd.DataFrame({\"Variable\": X_train.columns, \"Coeficiente\": model.coef_})\n",
    "coef_df.sort_values(by=\"Coeficiente\", ascending=False)\n"
   ]
  },
  {
   "cell_type": "code",
   "execution_count": 800,
   "id": "d2f19b62-d1a6-4a07-8f41-516706f7e847",
   "metadata": {
    "scrolled": true
   },
   "outputs": [
    {
     "name": "stdout",
     "output_type": "stream",
     "text": [
      "                            OLS Regression Results                            \n",
      "==============================================================================\n",
      "Dep. Variable:                 Salary   R-squared:                       0.610\n",
      "Model:                            OLS   Adj. R-squared:                  0.609\n",
      "Method:                 Least Squares   F-statistic:                     1193.\n",
      "Date:                Sun, 23 Mar 2025   Prob (F-statistic):               0.00\n",
      "Time:                        23:44:14   Log-Likelihood:                -3642.8\n",
      "No. Observations:                5347   AIC:                             7302.\n",
      "Df Residuals:                    5339   BIC:                             7354.\n",
      "Df Model:                           7                                         \n",
      "Covariance Type:            nonrobust                                         \n",
      "=======================================================================================\n",
      "                          coef    std err          t      P>|t|      [0.025      0.975]\n",
      "---------------------------------------------------------------------------------------\n",
      "const                  -0.4767      0.016    -29.035      0.000      -0.509      -0.445\n",
      "Age                     0.1404      0.010     14.572      0.000       0.122       0.159\n",
      "Gender                  0.0485      0.007      7.343      0.000       0.036       0.061\n",
      "Education Level         0.2845      0.009     30.777      0.000       0.266       0.303\n",
      "Job Title              -0.0430      0.007     -6.451      0.000      -0.056      -0.030\n",
      "Years of Experience     0.3492      0.011     32.797      0.000       0.328       0.370\n",
      "Senior                 -0.0302      0.007     -4.343      0.000      -0.044      -0.017\n",
      "Missing_Count           0.0233      0.007      3.424      0.001       0.010       0.037\n",
      "==============================================================================\n",
      "Omnibus:                     2311.571   Durbin-Watson:                   2.053\n",
      "Prob(Omnibus):                  0.000   Jarque-Bera (JB):           280232.782\n",
      "Skew:                          -1.062   Prob(JB):                         0.00\n",
      "Kurtosis:                      38.402   Cond. No.                         6.06\n",
      "==============================================================================\n",
      "\n",
      "Notes:\n",
      "[1] Standard Errors assume that the covariance matrix of the errors is correctly specified.\n"
     ]
    }
   ],
   "source": [
    "# Mostrar el resumen detallado del modelo\n",
    "X_train_sm = sm.add_constant(X_train)\n",
    "modelo_sm = sm.OLS(y_train, X_train_sm).fit()\n",
    "print(modelo_sm.summary())"
   ]
  },
  {
   "cell_type": "code",
   "execution_count": 801,
   "id": "6fb93345-0f61-4a79-ba32-c29d6884d450",
   "metadata": {},
   "outputs": [],
   "source": [
    "# ..."
   ]
  },
  {
   "cell_type": "markdown",
   "id": "7a3f2329-596b-47e1-afd8-2f5c55e3d385",
   "metadata": {},
   "source": [
    "### Pregunta 7 ###\n",
    "A la vista de los resultados del modelo, ¿Presenta sesgo el modelo? ¿Se cumplen las condiciones/supuestos que deben cumplirse en una regresión lineal para que el modelo sea estadisticamente válido? Detalla la respuesta haciendo interpretacion de los resultados obtenidos."
   ]
  },
  {
   "cell_type": "markdown",
   "id": "f3a55a5d-6a2e-43ee-ba83-9e98087aa128",
   "metadata": {},
   "source": [
    "***Respuesta:***"
   ]
  },
  {
   "cell_type": "markdown",
   "id": "ff95328d-212d-4e4c-85c8-b17a07476e89",
   "metadata": {},
   "source": [
    "El modelo explica en un 61% la variabilidad de la variable Salary, La prueba de Jarque-Bera es alta lo que indica que los residuos no siguen una distribución normal, Durbin-Watson es cercano al 2 lo que indica que no hay problemas de heterocedasticidad e indica ausencia de autocorrelación en los errores, las variables que tienen un coeficiente más alto son Years of Experience y Level Education lo cual indica que son las que más influyen a la hora de establecer el salario. "
   ]
  },
  {
   "cell_type": "markdown",
   "id": "338fb65d-eb90-457a-9acb-ee920e9fc4e2",
   "metadata": {},
   "source": [
    "A continuación, se ha de aplicar validación cruzada sobre los datos para el modelo de regresión lineal. Con esto veremos la generalización del modelo a datos no conocidos. Generar los bloques de código necesarios para llevar a cabo esta validación. La validación ha de ser en base a 2 métricas de vuestra elección sobre conjuntos de test y han de mostrarse los resultados en diagramas de tipo de boxplot o que permitan entender cómo generaliza el modelo."
   ]
  },
  {
   "cell_type": "code",
   "execution_count": 806,
   "id": "4415446e-c369-4320-8a14-098286a5fcfe",
   "metadata": {},
   "outputs": [
    {
     "data": {
      "image/png": "[encoded data removed]",
      "text/plain": [
       "<Figure size 1000x500 with 1 Axes>"
      ]
     },
     "metadata": {},
     "output_type": "display_data"
    }
   ],
   "source": [
    "import numpy as np\n",
    "import pandas as pd\n",
    "import seaborn as sns\n",
    "import matplotlib.pyplot as plt\n",
    "from sklearn.linear_model import LinearRegression\n",
    "from sklearn.model_selection import KFold\n",
    "from sklearn.metrics import mean_squared_error, r2_score\n",
    "from sklearn.impute import SimpleImputer  \n",
    "\n",
    "\n",
    "df_encoded = pd.get_dummies(df, drop_first=True)  \n",
    "\n",
    "\n",
    "imputer = SimpleImputer(strategy='mean')  \n",
    "df_imputed = pd.DataFrame(imputer.fit_transform(df_encoded), columns=df_encoded.columns)\n",
    "\n",
    "\n",
    "X = df_imputed.drop(columns=['Salary'])\n",
    "y = df_imputed['Salary']\n",
    "\n",
    "\n",
    "kf = KFold(n_splits=10, shuffle=True, random_state=42)\n",
    "\n",
    "\n",
    "rmse_scores = []\n",
    "r2_scores = []\n",
    "\n",
    "\n",
    "for train_index, test_index in kf.split(X):\n",
    "    X_train, X_test = X.iloc[train_index], X.iloc[test_index]\n",
    "    y_train, y_test = y.iloc[train_index], y.iloc[test_index]\n",
    "\n",
    "    \n",
    "    model = LinearRegression()\n",
    "    model.fit(X_train, y_train)\n",
    "\n",
    "    \n",
    "    y_pred = model.predict(X_test)\n",
    "\n",
    "    \n",
    "    rmse = np.sqrt(mean_squared_error(y_test, y_pred))\n",
    "    r2 = r2_score(y_test, y_pred)\n",
    "\n",
    "    \n",
    "    rmse_scores.append(rmse)\n",
    "    r2_scores.append(r2)\n",
    "\n",
    "\n",
    "results_df = pd.DataFrame({'RMSE': rmse_scores, 'R2': r2_scores})\n",
    "\n",
    "\n",
    "plt.figure(figsize=(10, 5))\n",
    "sns.boxplot(data=results_df)\n",
    "plt.title('Validación Cruzada - Distribución de Métricas')\n",
    "plt.ylabel('Valor')\n",
    "plt.show()\n",
    "\n",
    "\n",
    "\n"
   ]
  },
  {
   "cell_type": "markdown",
   "id": "0fbe6f05-3c88-47ac-959b-87eddcf230ca",
   "metadata": {},
   "source": [
    "### Pregunta 8 ###\n",
    "A la vista de los resultados de validación, ¿Existen problemas de varianza en los modelos entrenados?¿Por qué? "
   ]
  },
  {
   "cell_type": "markdown",
   "id": "1680a6cf-cb16-407e-9ffd-d54748f8bcdc",
   "metadata": {},
   "source": [
    "***Respuesta:***"
   ]
  },
  {
   "cell_type": "markdown",
   "id": "1463c150-7634-40a7-8f69-d78b9c2cd13c",
   "metadata": {},
   "source": [
    "Las cajas son relativamente compactas lo que nos indica que los errores del modelo son relativamente estables en los diferentes grupos y por otro lado la dispersión también es baja lo que hace que sea consistente en el poder explicativo. "
   ]
  },
  {
   "cell_type": "markdown",
   "id": "fd463576-55e2-4997-9ba7-583f3f616d4f",
   "metadata": {},
   "source": [
    "Como siguiente paso, vamos a aplicar selección de variables a nuestro conjunto de datos para ver si somos capaces de encontrar un modelo que, a través de un conjunto menor de variables, sea capaz de predecir muy parecido o mejor incluso que el modelo de regresión lineal que acabamos de obtener en primera instancia.\n",
    "\n",
    "Para ello vamos a proceder de dos formas. La primera consiste en llevar a cabo un metodo automatico de selección de variables hacía adelante (Forward). En los siguientes bloques de código, se ha de programar las instrucciones necesarias para llevar a cabo esta selección de variables. Se valorará mostrar el gráfico secuencial que muestra el perfomance de cada iteración. "
   ]
  },
  {
   "cell_type": "code",
   "execution_count": 811,
   "id": "eb848291-cd65-4647-a26c-452cebe0bf73",
   "metadata": {},
   "outputs": [
    {
     "data": {
      "image/png": "[encoded data removed]",
      "text/plain": [
       "<Figure size 800x500 with 1 Axes>"
      ]
     },
     "metadata": {},
     "output_type": "display_data"
    },
    {
     "name": "stdout",
     "output_type": "stream",
     "text": [
      "Variables seleccionadas: ['Education Level', 'Years of Experience', 'Age', 'Gender', 'Job Title', 'Senior', 'Missing_Count']\n"
     ]
    }
   ],
   "source": [
    "import numpy as np\n",
    "import pandas as pd\n",
    "import statsmodels.api as sm\n",
    "import matplotlib.pyplot as plt\n",
    "\n",
    "def forward_selection(X, y):\n",
    "    \"\"\"Selección de variables Forward basada en R².\"\"\"\n",
    "    selected_features = []\n",
    "    remaining_features = list(X.columns)\n",
    "    best_r2 = 0\n",
    "    r2_progress = []\n",
    "\n",
    "    while remaining_features:\n",
    "        best_feature = None\n",
    "        temp_r2 = best_r2  \n",
    "\n",
    "        for feature in remaining_features:\n",
    "            model_features = selected_features + [feature]\n",
    "            X_train_sm = sm.add_constant(X[model_features])  \n",
    "            model = sm.OLS(y, X_train_sm).fit()\n",
    "            \n",
    "            if model.rsquared > temp_r2:  \n",
    "                temp_r2 = model.rsquared\n",
    "                best_feature = feature\n",
    "\n",
    "        if best_feature is not None:\n",
    "            selected_features.append(best_feature)\n",
    "            remaining_features.remove(best_feature)\n",
    "            best_r2 = temp_r2  \n",
    "            r2_progress.append(best_r2)\n",
    "        else:\n",
    "            break  \n",
    "\n",
    "    return selected_features, r2_progress\n",
    "\n",
    "X = df.drop(columns=['Salary'])  \n",
    "y = df['Salary']  \n",
    "\n",
    "X = X.apply(pd.to_numeric, errors='coerce')\n",
    "\n",
    "X = X.fillna(X.mean())\n",
    "\n",
    "X = pd.get_dummies(X, drop_first=True)\n",
    "\n",
    "X = X.replace([np.inf, -np.inf], np.nan)\n",
    "\n",
    "mask = ~X.isna().any(axis=1)\n",
    "X, y = X[mask], y[mask]\n",
    "\n",
    "selected_features, r2_progress = forward_selection(X, y)\n",
    "\n",
    "plt.figure(figsize=(8, 5))\n",
    "plt.plot(range(1, len(r2_progress) + 1), r2_progress, marker='o', linestyle='-')\n",
    "plt.xlabel('Número de Variables Seleccionadas')\n",
    "plt.ylabel('R²')\n",
    "plt.title('Evolución del R² en la Selección Forward')\n",
    "plt.grid()\n",
    "plt.show()\n",
    "\n",
    "print(\"Variables seleccionadas:\", selected_features)"
   ]
  },
  {
   "cell_type": "markdown",
   "id": "4c1f5128-b2c4-4764-813f-d53ce49bc78a",
   "metadata": {},
   "source": [
    "### Pregunta 9 ###\n",
    "¿Cuál es el número de variables seleccionadas por el método aplicado? ¿cuál es el valor de la métrica escogida para la selección de las variables, en la iteración correspondiente al número de variables seleccionadas?"
   ]
  },
  {
   "cell_type": "markdown",
   "id": "af261241-7e24-4e65-b851-618fce3bccd3",
   "metadata": {},
   "source": [
    "***Respuesta:***"
   ]
  },
  {
   "cell_type": "markdown",
   "id": "b85c091e-0146-4ed5-b8ce-064e8b234577",
   "metadata": {},
   "source": [
    "Lo correcto sería escoger 5 variables ya que al escoger la sexta la mejora no es significativa y solo añade complejidad al modelo, el valor para la cantidad escogida es de 58,3%."
   ]
  },
  {
   "cell_type": "markdown",
   "id": "d77396fc-a661-4beb-9c24-2cca532c824f",
   "metadata": {},
   "source": [
    "Una vez realizada la selección de variables, se ha de entrenar un modelo de regresión lineal con dichas variables y mostrar el resumen del modelo entrenado. Una vez entrenado, aplicar validación cruzada para evaluar el modelo en todo el conjunto de datos para validar la generalización del modelo. De nuevo, la validación ha de ser en base a las 2 métricas escogidas en puntos anteriores, sobre conjuntos de test y han de mostrarse los resultados en diagramas de tipo de boxplot o que permitan entender cómo generaliza el modelo."
   ]
  },
  {
   "cell_type": "code",
   "execution_count": 816,
   "id": "8d6f14bb-2259-44b3-b9b2-cde7e46a486c",
   "metadata": {
    "scrolled": true
   },
   "outputs": [
    {
     "name": "stdout",
     "output_type": "stream",
     "text": [
      "                            OLS Regression Results                            \n",
      "==============================================================================\n",
      "Dep. Variable:                 Salary   R-squared:                       0.583\n",
      "Model:                            OLS   Adj. R-squared:                  0.583\n",
      "Method:                 Least Squares   F-statistic:                     1869.\n",
      "Date:                Sun, 23 Mar 2025   Prob (F-statistic):               0.00\n",
      "Time:                        23:44:16   Log-Likelihood:                -4775.1\n",
      "No. Observations:                6684   AIC:                             9562.\n",
      "Df Residuals:                    6678   BIC:                             9603.\n",
      "Df Model:                           5                                         \n",
      "Covariance Type:            nonrobust                                         \n",
      "=======================================================================================\n",
      "                          coef    std err          t      P>|t|      [0.025      0.975]\n",
      "---------------------------------------------------------------------------------------\n",
      "const                  -0.5183      0.015    -34.737      0.000      -0.548      -0.489\n",
      "Education Level         0.3075      0.008     36.596      0.000       0.291       0.324\n",
      "Years of Experience     0.2273      0.008     28.762      0.000       0.212       0.243\n",
      "Age                     0.2019      0.008     24.827      0.000       0.186       0.218\n",
      "Gender                  0.0588      0.006      9.669      0.000       0.047       0.071\n",
      "Job Title              -0.0418      0.006     -6.773      0.000      -0.054      -0.030\n",
      "==============================================================================\n",
      "Omnibus:                     1171.861   Durbin-Watson:                   1.090\n",
      "Prob(Omnibus):                  0.000   Jarque-Bera (JB):            27633.372\n",
      "Skew:                          -0.048   Prob(JB):                         0.00\n",
      "Kurtosis:                      12.961   Cond. No.                         5.93\n",
      "==============================================================================\n",
      "\n",
      "Notes:\n",
      "[1] Standard Errors assume that the covariance matrix of the errors is correctly specified.\n"
     ]
    }
   ],
   "source": [
    "# Ajustar modelo regresión lineal para variables seleccionadas\n",
    "\n",
    "import numpy as np\n",
    "import pandas as pd\n",
    "import statsmodels.api as sm\n",
    "\n",
    "selected_features = ['Education Level', 'Years of Experience', 'Age', 'Gender', 'Job Title']\n",
    "\n",
    "X = df[selected_features]\n",
    "y = df['Salary']  \n",
    "\n",
    "X = pd.get_dummies(X, drop_first=True)\n",
    "\n",
    "X = X.apply(pd.to_numeric, errors='coerce')\n",
    "\n",
    "X = X.fillna(X.mean())\n",
    "\n",
    "X = X.replace([np.inf, -np.inf], np.nan)\n",
    "\n",
    "mask = ~X.isna().any(axis=1)\n",
    "X, y = X[mask], y[mask]\n",
    "\n",
    "X = sm.add_constant(X)\n",
    "\n",
    "model = sm.OLS(y, X).fit()\n",
    "\n",
    "print(model.summary())"
   ]
  },
  {
   "cell_type": "code",
   "execution_count": 817,
   "id": "3269d304-86fe-4395-b996-4cebdfa9e9de",
   "metadata": {},
   "outputs": [],
   "source": [
    "# Mostrar principales atributos, coeficientes, etc. del modelo entrenado"
   ]
  },
  {
   "cell_type": "code",
   "execution_count": 818,
   "id": "f53a4ff1-2180-4e54-8fc1-bb3621c6dcf7",
   "metadata": {},
   "outputs": [
    {
     "data": {
      "image/png": "[encoded data removed]",
      "text/plain": [
       "<Figure size 1000x500 with 1 Axes>"
      ]
     },
     "metadata": {},
     "output_type": "display_data"
    },
    {
     "name": "stdout",
     "output_type": "stream",
     "text": [
      "        RMSE     R²\n",
      "count 10.000 10.000\n",
      "mean   0.503  0.564\n",
      "std    0.052  0.095\n",
      "min    0.455  0.346\n",
      "25%    0.476  0.577\n",
      "50%    0.484  0.595\n",
      "75%    0.495  0.617\n",
      "max    0.624  0.647\n"
     ]
    }
   ],
   "source": [
    "# Aplicar validación cruzada\n",
    "import numpy as np\n",
    "import pandas as pd\n",
    "import statsmodels.api as sm\n",
    "import matplotlib.pyplot as plt\n",
    "import seaborn as sns\n",
    "from sklearn.model_selection import KFold\n",
    "from sklearn.linear_model import LinearRegression\n",
    "from sklearn.metrics import mean_squared_error, r2_score\n",
    "from sklearn.impute import SimpleImputer\n",
    "\n",
    "selected_features = ['Education Level', 'Years of Experience', 'Age', 'Gender', 'Job Title']\n",
    "\n",
    "X = df[selected_features]\n",
    "y = df['Salary']  \n",
    "\n",
    "X = pd.get_dummies(X, drop_first=True)\n",
    "\n",
    "imputer = SimpleImputer(strategy='mean')\n",
    "X_imputed = pd.DataFrame(imputer.fit_transform(X), columns=X.columns)\n",
    "\n",
    "kf = KFold(n_splits=10, shuffle=True, random_state=42)\n",
    "\n",
    "rmse_scores = []\n",
    "r2_scores = []\n",
    "\n",
    "for train_index, test_index in kf.split(X_imputed):\n",
    "    X_train, X_test = X_imputed.iloc[train_index], X_imputed.iloc[test_index]\n",
    "    y_train, y_test = y.iloc[train_index], y.iloc[test_index]\n",
    "\n",
    "    model = LinearRegression()\n",
    "    model.fit(X_train, y_train)\n",
    "\n",
    "    y_pred = model.predict(X_test)\n",
    "\n",
    "    rmse = np.sqrt(mean_squared_error(y_test, y_pred))\n",
    "    r2 = r2_score(y_test, y_pred)\n",
    "\n",
    "    rmse_scores.append(rmse)\n",
    "    r2_scores.append(r2)\n",
    "\n",
    "results_df = pd.DataFrame({'RMSE': rmse_scores, 'R²': r2_scores})\n",
    "\n",
    "plt.figure(figsize=(10, 5))\n",
    "sns.boxplot(data=results_df)\n",
    "plt.title('Validación Cruzada - Distribución de Métricas')\n",
    "plt.ylabel('Valor')\n",
    "plt.show()\n",
    "\n",
    "print(results_df.describe())\n"
   ]
  },
  {
   "cell_type": "code",
   "execution_count": 819,
   "id": "2d6b0162-d8e6-43d5-8569-98922604014e",
   "metadata": {},
   "outputs": [],
   "source": [
    "# Apoyo gráfico para interpretar la validación"
   ]
  },
  {
   "cell_type": "markdown",
   "id": "d3809de3-e2c6-491e-80c5-d2db5bb4ca9b",
   "metadata": {},
   "source": [
    "### Pregunta 10 ###\n",
    "En base a los resultados obtenidos, comparar con los resultados obtenidos para el modelo de regresión lineal y explicar las conclusiones sobre cuál de los 2 modelos parece aportar más beneficios para el objetivo del proyecto."
   ]
  },
  {
   "cell_type": "markdown",
   "id": "2dff2d74-6b57-4956-8f6a-29e6f2557fcd",
   "metadata": {},
   "source": [
    "***Respuesta:***"
   ]
  },
  {
   "cell_type": "markdown",
   "id": "637d64d9-9a2a-4e79-be6d-e8e0e935145b",
   "metadata": {},
   "source": [
    "El primer modelo se adapta mejor a la explicación de la variabilidad de Salary sin embargo, el segundo modelo tiene un poco menos de explicación de la variabilidad del objetivo pero reduce sus dimensiones lo que lo hace un modelo mucho más simple de aplicar."
   ]
  },
  {
   "cell_type": "markdown",
   "id": "ddff5c51-ead8-4889-bd09-40a7a95eafc6",
   "metadata": {},
   "source": [
    "Ahora se ha de entrenar un nuevo modelo de regresión lineal pero esta vez, en lugar de aplicar una selección de variables como se acaba de realizar, el alumno debe llevar a cabo un analisis de compoenentes principales que reduzca la dimensionalidad del conjunto original de datos. Y a partir de dichas componentes, entrenar y evaluar el modelo de regresión lineal.\n",
    "\n",
    "En primer lugar, se han escribir los bloques de código que permiten realizar el analisis de componentes principales."
   ]
  },
  {
   "cell_type": "code",
   "execution_count": 824,
   "id": "eeef640c-3178-45c4-b147-3d6fb752e09d",
   "metadata": {},
   "outputs": [],
   "source": [
    "# Crear el analisis de PCA a partir del conjunto de variables predictoras\n",
    "import numpy as np\n",
    "import pandas as pd\n",
    "import matplotlib.pyplot as plt\n",
    "import seaborn as sns\n",
    "from sklearn.decomposition import PCA\n",
    "from sklearn.preprocessing import StandardScaler\n",
    "\n",
    "X = df.drop(columns=['Salary'])\n",
    "\n",
    "X = pd.get_dummies(X, drop_first=True)\n",
    "\n",
    "X.fillna(X.mean(), inplace=True)\n",
    "\n",
    "scaler = StandardScaler()\n",
    "X_scaled = scaler.fit_transform(X)\n",
    "\n",
    "pca = PCA()\n",
    "X_pca = pca.fit_transform(X_scaled)\n",
    "\n",
    "explained_variance_ratio = np.cumsum(pca.explained_variance_ratio_)"
   ]
  },
  {
   "cell_type": "code",
   "execution_count": 825,
   "id": "63f38b4c-062f-4096-a447-b0d05c4f11d7",
   "metadata": {},
   "outputs": [
    {
     "data": {
      "image/png": "[encoded data removed]",
      "text/plain": [
       "<Figure size 800x500 with 1 Axes>"
      ]
     },
     "metadata": {},
     "output_type": "display_data"
    },
    {
     "name": "stdout",
     "output_type": "stream",
     "text": [
      "  Componente  Varianza Explicada  Varianza Acumulada\n",
      "0        PC1               0.333               0.333\n",
      "1        PC2               0.156               0.489\n",
      "2        PC3               0.138               0.627\n",
      "3        PC4               0.131               0.758\n",
      "4        PC5               0.116               0.874\n",
      "5        PC6               0.071               0.945\n",
      "6        PC7               0.055               1.000\n"
     ]
    }
   ],
   "source": [
    "# Graficar la varianza explicada acumulada (scree-plot)\n",
    "\n",
    "plt.figure(figsize=(8, 5))\n",
    "plt.plot(range(1, len(explained_variance_ratio) + 1), explained_variance_ratio, marker='o', linestyle='-')\n",
    "plt.xlabel('Número de Componentes Principales')\n",
    "plt.ylabel('Varianza Explicada Acumulada')\n",
    "plt.title('Scree-Plot - Análisis de Componentes Principales (PCA)')\n",
    "plt.grid()\n",
    "plt.show()\n",
    "\n",
    "pca_df = pd.DataFrame({\n",
    "    'Componente': [f'PC{i+1}' for i in range(len(pca.explained_variance_ratio_))],\n",
    "    'Varianza Explicada': pca.explained_variance_ratio_,\n",
    "    'Varianza Acumulada': explained_variance_ratio\n",
    "})\n",
    "print(pca_df)"
   ]
  },
  {
   "cell_type": "markdown",
   "id": "536ed9b1-f2de-4a61-8dd7-fb57d43328aa",
   "metadata": {},
   "source": [
    "### Pregunta 11 ###\n",
    "Para un porcentaje de varianza explicada del 95%, ¿cuál es el número de componentes principales que consiguen explicar dicho porcentaje de varianza?"
   ]
  },
  {
   "cell_type": "markdown",
   "id": "b93aae86-45ea-4336-823d-f777d46aac31",
   "metadata": {},
   "source": [
    "***Respuesta:***"
   ]
  },
  {
   "cell_type": "markdown",
   "id": "a19913f4-3fab-4b38-bae1-2b70fbe7d6de",
   "metadata": {},
   "source": [
    "Para lograra un 95% de la varianza explicada necesitariamos extrictamente los 7 componentes pero con 6 nos aproximamos al 94,53% lo cual queda muy cerca del objetivo de explicación de la varianza."
   ]
  },
  {
   "cell_type": "markdown",
   "id": "e187a5a4-e53c-4680-83a0-41a92721b722",
   "metadata": {},
   "source": [
    "A continuación, con las nuevas componentes principales como variables predictoras y los datos proyectados sobre ellas, entrenar un modelo de regresión lineal y mostrar los resultados del entrenamiento. Una vez entrenado, aplicar validación cruzada para evaluar el modelo en todo el conjunto de datos validando así la generalización del modelo. De nuevo, la validación ha de ser en base a las 2 métricas escogidas en puntos anteriores, sobre conjuntos de test y han de mostrarse los resultados en diagramas de tipo de boxplot o que permitan entender cómo generaliza el modelo."
   ]
  },
  {
   "cell_type": "code",
   "execution_count": 830,
   "id": "399e8287-cd8b-44c9-9c41-1815857566e6",
   "metadata": {},
   "outputs": [
    {
     "name": "stdout",
     "output_type": "stream",
     "text": [
      "Componentes seleccionadas: 6 de 7 variables originales\n",
      "\n",
      "📌 Coeficientes del modelo:\n",
      "PC1: 0.3618\n",
      "PC2: -0.0086\n",
      "PC3: 0.0818\n",
      "PC4: 0.0484\n",
      "PC5: -0.1868\n",
      "PC6: 0.0336\n",
      "\n",
      "📌 Intercepto: -0.0191\n"
     ]
    },
    {
     "data": {
      "image/png": "[encoded data removed]",
      "text/plain": [
       "<Figure size 1000x500 with 1 Axes>"
      ]
     },
     "metadata": {},
     "output_type": "display_data"
    }
   ],
   "source": [
    "# Ajustar modelo regresión lineal para variables seleccionadas proyectadas\n",
    "import numpy as np\n",
    "import pandas as pd\n",
    "import matplotlib.pyplot as plt\n",
    "import seaborn as sns\n",
    "from sklearn.decomposition import PCA\n",
    "from sklearn.preprocessing import StandardScaler\n",
    "from sklearn.linear_model import LinearRegression\n",
    "from sklearn.model_selection import KFold, cross_val_score\n",
    "from sklearn.metrics import mean_squared_error, r2_score\n",
    "from sklearn.impute import SimpleImputer\n",
    "\n",
    "X = df.drop(columns=['Salary'])\n",
    "y = df['Salary']\n",
    "\n",
    "X = pd.get_dummies(X, drop_first=True)\n",
    "\n",
    "imputer = SimpleImputer(strategy='mean')\n",
    "X_imputed = pd.DataFrame(imputer.fit_transform(X), columns=X.columns)\n",
    "\n",
    "scaler = StandardScaler()\n",
    "X_scaled = scaler.fit_transform(X_imputed)\n",
    "\n",
    "pca = PCA(n_components=0.94)  \n",
    "X_pca = pca.fit_transform(X_scaled)\n",
    "\n",
    "print(f\"Componentes seleccionadas: {X_pca.shape[1]} de {X.shape[1]} variables originales\")\n",
    "\n",
    "model = LinearRegression()\n",
    "model.fit(X_pca, y)\n",
    "\n",
    "print(\"\\n📌 Coeficientes del modelo:\")\n",
    "for i, coef in enumerate(model.coef_):\n",
    "    print(f\"PC{i+1}: {coef:.4f}\")\n",
    "\n",
    "print(f\"\\n📌 Intercepto: {model.intercept_:.4f}\")\n",
    "\n",
    "kf = KFold(n_splits=10, shuffle=True, random_state=42)\n",
    "\n",
    "rmse_scores = []\n",
    "r2_scores = []\n",
    "\n",
    "for train_index, test_index in kf.split(X_pca):\n",
    "    X_train, X_test = X_pca[train_index], X_pca[test_index]\n",
    "    y_train, y_test = y.iloc[train_index], y.iloc[test_index]\n",
    "\n",
    "    model.fit(X_train, y_train)\n",
    "\n",
    "    y_pred = model.predict(X_test)\n",
    "\n",
    "    rmse = np.sqrt(mean_squared_error(y_test, y_pred))\n",
    "    r2 = r2_score(y_test, y_pred)\n",
    "\n",
    "    rmse_scores.append(rmse)\n",
    "    r2_scores.append(r2)\n",
    "\n",
    "results_df = pd.DataFrame({'RMSE': rmse_scores, 'R²': r2_scores})\n",
    "\n",
    "plt.figure(figsize=(10, 5))\n",
    "sns.boxplot(data=results_df)\n",
    "plt.title('Validación Cruzada - Distribución de Métricas')\n",
    "plt.ylabel('Valor')\n",
    "plt.show()\n"
   ]
  },
  {
   "cell_type": "code",
   "execution_count": 831,
   "id": "4ac15ae3-302d-4aac-902e-ff075b156f1f",
   "metadata": {},
   "outputs": [],
   "source": [
    "# Mostrar principales atributos, coeficientes, etc. del modelo entrenado"
   ]
  },
  {
   "cell_type": "code",
   "execution_count": 832,
   "id": "d8e2eace-b7c1-406e-ad47-fc4e58e4f55f",
   "metadata": {},
   "outputs": [],
   "source": [
    "# Aplicar validación cruzada"
   ]
  },
  {
   "cell_type": "code",
   "execution_count": 833,
   "id": "a8d97912-8697-4c52-b1f5-7662d0857bfb",
   "metadata": {
    "scrolled": true
   },
   "outputs": [],
   "source": [
    "# Apoyo gráfico para interpretar la validación"
   ]
  },
  {
   "cell_type": "markdown",
   "id": "f7abaa1f-09d6-41c3-86b7-3cb11b44f706",
   "metadata": {},
   "source": [
    "### Pregunta 12 ###\n",
    "En vista de los resultados, comparar con los anteriores 2 modelos entrenados (el original de regresión lineal y aquel al que aplicamos selección de variables con método forward). ¿Qué modelo de entre los 3 tiene el atributo *Condition Number* más bajo y por qué? En general y a modo de conclusión, ¿Qué modelo de los 3 parece más apropiado para el caso de uso y por qué?"
   ]
  },
  {
   "cell_type": "markdown",
   "id": "e9821f43-3a77-4479-b5ef-7cd0d6fb5324",
   "metadata": {},
   "source": [
    "***Respuesta:***"
   ]
  },
  {
   "cell_type": "markdown",
   "id": "7896f1eb-8d28-4e36-b894-c52ad94f5827",
   "metadata": {},
   "source": [
    "Desde el punto de vista que entre los 3 modelos no hay una gran diferencia a la hora de la explicabilidad de la variabilidad de Salary escogeríamos el segundo modelo que es el más simple y el que menos dimensiones tiene pese a ser un poco inferior su explicación de la varibilidad de la variable objetivo."
   ]
  },
  {
   "cell_type": "markdown",
   "id": "237096be-0a27-439d-8ca5-c7b05c5ab537",
   "metadata": {},
   "source": [
    "Pasamos ahora a cambiar el objetivo del proyecto pero haciendo uso del mismo conjunto de datos. Todas las transformaciones y preparaciones comunes que hayamos establecido, seguirán siendo válidas y tan solo quedarán aquellas específicas para este nuevo caso de uso.\n",
    "\n",
    "La nueva variable objetivo será ***Gender***. El modelo debe ser capaz de determinar para cada registro si se trata de hombre o mujer según esta variable de genero. Las variables predictoras serán todas las demás (incluyendo en esta ocasión la variable ***Salary*** como una predictora más. El modelo que vamos a tratar de modelar para clasificar nuestros datos será de regresión logística.\n",
    "\n",
    "En primer lugar, se debe transformar la variable categórica ***Gender*** codificándola con 0 cuando el registro sea *Female* o 1 cuando es *Male*. Una vez realizada esta transformación, ya tenemos preparada nuestra variable objetivo. En este caso, mantenemos y asumimos como valores correctos la imputación de valores nulos que se llevó a cabo en anteriores ejercicios correspondientes a la fase de preparación de los datos."
   ]
  },
  {
   "cell_type": "code",
   "execution_count": 838,
   "id": "ddf06813-b970-4002-8499-ff4d7b1b367a",
   "metadata": {},
   "outputs": [
    {
     "name": "stdout",
     "output_type": "stream",
     "text": [
      "[1. 0.]\n"
     ]
    }
   ],
   "source": [
    "# Binarizar la variable objetivo\n",
    "df = pd.read_csv(r\"C:\\Users\\Usuario\\Desktop\\Salary_MD.csv\")  \n",
    "\n",
    "df['Gender'] = df['Gender'].astype(str).str.strip().str.lower().map({'female': 0, 'male': 1})\n",
    "\n",
    "moda_genero = df['Gender'].mode()[0]  \n",
    "\n",
    "df['Gender'] = df['Gender'].fillna(moda_genero)\n",
    "\n",
    "print(df['Gender'].unique())  "
   ]
  },
  {
   "cell_type": "markdown",
   "id": "7f3f1a5a-5c78-42a3-baeb-9a62b90edf25",
   "metadata": {},
   "source": [
    "A continuación, podríamos tratar de modelar la regresión logística con el dataset actual, tomando como variable objetivo ***Gender*** que acabamos de transformar. Lo más normal es que al hacerlo, el modelo de un error al entrenarlo por no llegar a converger o directamente porque la matriz a invertir para calcular los coeficientes, sea singular y no pueda invertirse. Esto se debe a colinealidad entre las variables predictoras. Queda a criterio del alumno, hacer él mismo la prueba de tratar de entrenar la regresión y verificar si efectivamente da problemas y no se consigue un modelo válido.\n",
    "\n",
    "Por evitar esta situación, vamos a realizar un paso previo que consistirá en un analisis factorial, mediante el cual daremos con unos factores que por un lado nos aportarán información potencial subyacente sobre las variables latentes que pueda contener nuestro conjunto de variables predictoras, y por otro lado nos ayudará a reducir la dimensionalidad del conjunto para evitar la multicolinealidad. Esto nos permitirá llevar a cabo el entrenamiento del modelo de regresión lineal.\n",
    "\n",
    "Los siguientes bloques de código deben ajustar un analisis de componentes principales a partir de nuestro conjunto de variables predictoras recién definido. Después se debe mostrar en una tabla cada uno de los autovectores, su correspondiente autovalor, el porcentaje de varianza explicada y el porcentaje de varianza acumulada estando las componentes ordenadas de mayor a menor porcentaje de varianza explicada. Por último, se debe mostrar en un gráfico de tipo scree-plot (gráfico de codo), la varianza explicada en función del número de componentes principales."
   ]
  },
  {
   "cell_type": "code",
   "execution_count": 840,
   "id": "226afcbd-67d4-4f55-8018-a1120ffcd79f",
   "metadata": {},
   "outputs": [
    {
     "name": "stdout",
     "output_type": "stream",
     "text": [
      "Variables categóricas detectadas: []\n"
     ]
    }
   ],
   "source": [
    "categorical_cols = X.select_dtypes(include=['object']).columns\n",
    "\n",
    "print(\"Variables categóricas detectadas:\", categorical_cols.tolist())\n"
   ]
  },
  {
   "cell_type": "code",
   "execution_count": 841,
   "id": "01039794-c03f-43e5-bf2b-97fd52990d5e",
   "metadata": {},
   "outputs": [
    {
     "name": "stdout",
     "output_type": "stream",
     "text": [
      "    Componente  Autovalor  Varianza Explicada (%)  Varianza Acumulada (%)\n",
      "0          PC1      3.344                   2.290                   2.290\n",
      "1          PC2      2.145                   1.469                   3.759\n",
      "2          PC3      1.952                   1.337                   5.095\n",
      "3          PC4      1.802                   1.234                   6.329\n",
      "4          PC5      1.642                   1.125                   7.454\n",
      "..         ...        ...                     ...                     ...\n",
      "141      PC142      0.239                   0.164                  99.729\n",
      "142      PC143      0.187                   0.128                  99.858\n",
      "143      PC144      0.133                   0.091                  99.949\n",
      "144      PC145      0.069                   0.047                  99.996\n",
      "145      PC146      0.006                   0.004                 100.000\n",
      "\n",
      "[146 rows x 4 columns]\n"
     ]
    }
   ],
   "source": [
    "# Usar PCA para obtener autovectores y autovalores\n",
    "import numpy as np\n",
    "import pandas as pd\n",
    "import matplotlib.pyplot as plt\n",
    "from sklearn.decomposition import PCA\n",
    "from sklearn.preprocessing import StandardScaler\n",
    "\n",
    "X = df.drop(columns=['Gender'])  \n",
    "\n",
    "X = pd.get_dummies(X, drop_first=True)\n",
    "\n",
    "X = X.fillna(X.mean())\n",
    "\n",
    "scaler = StandardScaler()\n",
    "X_scaled = scaler.fit_transform(X)\n",
    "\n",
    "pca = PCA()\n",
    "X_pca = pca.fit_transform(X_scaled)\n",
    "\n",
    "eigenvalues = pca.explained_variance_\n",
    "eigenvectors = pca.components_\n",
    "\n",
    "explained_variance_ratio = pca.explained_variance_ratio_\n",
    "cumulative_variance = np.cumsum(explained_variance_ratio)\n",
    "\n",
    "pca_df = pd.DataFrame({\n",
    "    'Componente': [f'PC{i+1}' for i in range(len(eigenvalues))],\n",
    "    'Autovalor': eigenvalues,\n",
    "    'Varianza Explicada (%)': explained_variance_ratio * 100,\n",
    "    'Varianza Acumulada (%)': cumulative_variance * 100\n",
    "})\n",
    "\n",
    "print(pca_df)"
   ]
  },
  {
   "cell_type": "code",
   "execution_count": 842,
   "id": "4ee5421d-72ef-49b3-bcde-f981c4bc9a3f",
   "metadata": {},
   "outputs": [
    {
     "data": {
      "image/png": "[encoded data removed]",
      "text/plain": [
       "<Figure size 800x500 with 1 Axes>"
      ]
     },
     "metadata": {},
     "output_type": "display_data"
    }
   ],
   "source": [
    "# Graficar Scree-Plot (gráfico de codo)\n",
    "plt.figure(figsize=(8, 5))\n",
    "plt.plot(range(1, len(eigenvalues) + 1), explained_variance_ratio * 100, marker='o', linestyle='-')\n",
    "plt.xlabel('Número de Componentes Principales')\n",
    "plt.ylabel('Porcentaje de Varianza Explicada')\n",
    "plt.title('Scree-Plot (Gráfico de Codo)')\n",
    "plt.grid()\n",
    "plt.show() \n",
    "\n"
   ]
  },
  {
   "cell_type": "markdown",
   "id": "0b0c6923-1c57-4106-91ec-945fd6efa5b4",
   "metadata": {},
   "source": [
    "### Pregunta 13 ###\n",
    "De acuerdo a los resultados de la tabla, ¿Qué número de componentes consiguen explicar el 95% de la varianza conjunta de nuestro dataset?\n",
    "Por otor lado, viendo también la gráfica obtenida, ¿Cuántos factores debemos escoger según el criterio de Kaiser?"
   ]
  },
  {
   "cell_type": "markdown",
   "id": "8c256307-8114-49e6-b155-0163ed975b47",
   "metadata": {},
   "source": [
    "***Respuesta:***"
   ]
  },
  {
   "cell_type": "markdown",
   "id": "e1f4bf9c-37b5-47ac-893b-7ca5a882f2cf",
   "metadata": {},
   "source": [
    "Para alcanzar una explicación del 95% de la varianza conjunta necesitariamos 130 componentes que supondría un 95,37%. Según el criterio de kaiser debemos escoger los autovectores mayores a 1 que son 127. "
   ]
  },
  {
   "cell_type": "markdown",
   "id": "d086f0cc-5b72-4635-8847-39b5b0ed5143",
   "metadata": {},
   "source": [
    "Muestra en una tabla las cargas factoriales para el listado de variables. Cada columna debe hacer referencia a cada factor seleccionado mediante el criterio de Kaiser."
   ]
  },
  {
   "cell_type": "code",
   "execution_count": 847,
   "id": "214c8891-280f-42ff-971d-1e4a909eb5f7",
   "metadata": {},
   "outputs": [
    {
     "name": "stdout",
     "output_type": "stream",
     "text": [
      "                     Factor 1  Factor 2  Factor 3  Factor 4  Factor 5  \\\n",
      "Age                     0.779    -0.086    -0.158     0.003     0.066   \n",
      "Education Level         0.760    -0.123    -0.179    -0.024    -0.021   \n",
      "Job Title_0            -0.140    -0.038    -0.007     0.034     0.260   \n",
      "Job Title_1             0.418     0.201     0.666    -0.014    -0.097   \n",
      "Job Title_2             0.534     0.035     0.290    -0.059    -0.325   \n",
      "Job Title_3             0.302     0.205     0.620    -0.105    -0.333   \n",
      "Job Title_4             0.048     0.182     0.418    -0.143    -0.413   \n",
      "Job Title_5             0.219     0.084     0.343     0.185     0.505   \n",
      "Job Title_6             0.092     0.123     0.412     0.214     0.570   \n",
      "Job Title_7            -0.069    -0.160    -0.475    -0.143    -0.475   \n",
      "Years of Experience     0.752    -0.105    -0.201    -0.009     0.086   \n",
      "Salary                  0.633    -0.141    -0.272     0.007     0.037   \n",
      "Country_0               0.050     0.810    -0.264    -0.072     0.061   \n",
      "Country_1              -0.070    -0.765     0.256    -0.270     0.079   \n",
      "Country_2               0.002    -0.186     0.017     0.623    -0.279   \n",
      "Race_0                 -0.050    -0.507     0.189    -0.363     0.124   \n",
      "Race_1                  0.045     0.687    -0.198    -0.311     0.042   \n",
      "Race_2                 -0.052    -0.278     0.082     0.187    -0.145   \n",
      "Race_3                  0.011     0.050    -0.038     0.788    -0.159   \n",
      "Senior                  0.340    -0.163    -0.443     0.024     0.155   \n",
      "\n",
      "                     Factor 6  Factor 7  \n",
      "Age                     0.015    -0.013  \n",
      "Education Level         0.010     0.163  \n",
      "Job Title_0            -0.001     0.709  \n",
      "Job Title_1            -0.016     0.049  \n",
      "Job Title_2             0.016    -0.191  \n",
      "Job Title_3            -0.063     0.051  \n",
      "Job Title_4            -0.060     0.115  \n",
      "Job Title_5             0.104    -0.524  \n",
      "Job Title_6             0.078     0.123  \n",
      "Job Title_7            -0.027    -0.138  \n",
      "Years of Experience    -0.019     0.117  \n",
      "Salary                  0.007     0.246  \n",
      "Country_0               0.056     0.068  \n",
      "Country_1              -0.135    -0.068  \n",
      "Country_2               0.511     0.065  \n",
      "Race_0                  0.130     0.106  \n",
      "Race_1                  0.370    -0.030  \n",
      "Race_2                  0.764     0.023  \n",
      "Race_3                 -0.489     0.025  \n",
      "Senior                 -0.001    -0.307  \n"
     ]
    }
   ],
   "source": [
    "# Ajuste de Analisis Factorial para numero de factores según Kaiser\n",
    "import numpy as np\n",
    "import pandas as pd\n",
    "from category_encoders import BinaryEncoder\n",
    "from sklearn.decomposition import PCA\n",
    "from sklearn.preprocessing import StandardScaler\n",
    "\n",
    "if 'X_encoded' not in locals():\n",
    "    X_encoded = df.drop(columns=['Gender'])  \n",
    "    categorical_cols = X_encoded.select_dtypes(include=['object']).columns\n",
    "\n",
    "    encoder = BinaryEncoder(cols=categorical_cols)\n",
    "    X_encoded = encoder.fit_transform(X_encoded)\n",
    "\n",
    "    X_encoded = X_encoded.fillna(X_encoded.mean())\n",
    "\n",
    "scaler = StandardScaler()\n",
    "X_scaled = scaler.fit_transform(X_encoded)\n",
    "\n",
    "pca = PCA()\n",
    "X_pca = pca.fit_transform(X_scaled)\n",
    "\n",
    "eigenvalues = pca.explained_variance_    \n",
    "eigenvectors = pca.components_           \n",
    "\n",
    "mask = eigenvalues > 1\n",
    "num_factores = int(np.sum(mask))  \n",
    "\n",
    "selected_eigenvalues = eigenvalues[mask]        \n",
    "selected_eigenvectors = eigenvectors[mask, :]     \n",
    "\n",
    "factor_loadings = selected_eigenvectors.T * np.sqrt(selected_eigenvalues).reshape(1, -1)\n",
    "\n",
    "n_variables = X_encoded.shape[1]\n",
    "\n",
    "\n",
    "cargas_df = pd.DataFrame(\n",
    "    factor_loadings,\n",
    "    index=X_encoded.columns, \n",
    "    columns=[f'Factor {i+1}' for i in range(num_factores)]\n",
    ")\n",
    "\n",
    "pd.set_option('display.float_format', '{:.3f}'.format)\n",
    "print(cargas_df)"
   ]
  },
  {
   "cell_type": "code",
   "execution_count": 848,
   "id": "c2ab474a-7f54-499f-8e2d-10b57e53c7eb",
   "metadata": {},
   "outputs": [],
   "source": [
    "# Matriz de cargas factoriales"
   ]
  },
  {
   "cell_type": "markdown",
   "id": "75127fe2-882f-4791-990f-bd138bdfe92f",
   "metadata": {},
   "source": [
    "### Pregunta 14 ###\n",
    "En base a los factores seleccionados mediante el método de Kaiser, haz una interpretación del significado de los factores."
   ]
  },
  {
   "cell_type": "markdown",
   "id": "3c3af437-3b0b-4041-8a22-320e2b7c6267",
   "metadata": {},
   "source": [
    "***Respuesta:***"
   ]
  },
  {
   "cell_type": "markdown",
   "id": "08b45860-fc3e-4a02-beb5-1f769b4ebdfc",
   "metadata": {},
   "source": [
    "El primer factor está relacionado con características personales y laborales, así refleja su fuerte relación con algunas variables como Age, Education Level. Years of Experience y Salary. \n",
    "El segundo y el cuarto factor se relacionan con características geográficas del individuo como su país o su etnia. \n",
    "El tercer y quinto factor tienen relación con el tipo de puesto de trabajo que ocupa. \n",
    "El sexto factor es del mismo tipo del segundo y el cuarto pero recoge el resto de variabilidad que los dos anteriores no detectan.\n",
    "El séptimo valor es del mismo tipo que el tercero y el quinto recogiendo la variabilidad que las dos anteriores no detectan.\n"
   ]
  },
  {
   "cell_type": "markdown",
   "id": "58698fb4-2a84-49a7-b692-0105d5301e74",
   "metadata": {},
   "source": [
    "Para continuar con el analisis, vamos a seleccionar los 2 primeros factores. En el siguiente bloque de código se ha de presentar una tabla con las cargas factoriales de cada variable para los 2 factores seleccionados. Aplicar una rotación si se considera oportuno para ayudar a la interpretación de los factores. Después, se ha de mostrar en otra tabla las comunalidades y unicidades (ambas en expresadas como porcentaje). Por último, se ha de mostrar un diagrama biplot que represente, en función de los 2 factores escogidos, las variables que mayor representación según las cargas factoriales. Es decir, aquellas variables que tengan al menos una carga factorial mayor que 0.3. Esto reducirá el número de vectores a representar y hará que la visualización sea más legible."
   ]
  },
  {
   "cell_type": "code",
   "execution_count": 853,
   "id": "76f01ebb-7260-4177-9263-eb211291c877",
   "metadata": {},
   "outputs": [
    {
     "name": "stdout",
     "output_type": "stream",
     "text": [
      "Requirement already satisfied: factor-analyzer in c:\\users\\usuario\\anaconda3\\lib\\site-packages (0.5.1)\n",
      "Requirement already satisfied: pandas in c:\\users\\usuario\\anaconda3\\lib\\site-packages (from factor-analyzer) (2.2.2)\n",
      "Requirement already satisfied: scipy in c:\\users\\usuario\\anaconda3\\lib\\site-packages (from factor-analyzer) (1.13.1)\n",
      "Requirement already satisfied: numpy in c:\\users\\usuario\\anaconda3\\lib\\site-packages (from factor-analyzer) (1.26.4)\n",
      "Requirement already satisfied: scikit-learn in c:\\users\\usuario\\anaconda3\\lib\\site-packages (from factor-analyzer) (1.6.1)\n",
      "Requirement already satisfied: python-dateutil>=2.8.2 in c:\\users\\usuario\\anaconda3\\lib\\site-packages (from pandas->factor-analyzer) (2.9.0.post0)\n",
      "Requirement already satisfied: pytz>=2020.1 in c:\\users\\usuario\\anaconda3\\lib\\site-packages (from pandas->factor-analyzer) (2024.1)\n",
      "Requirement already satisfied: tzdata>=2022.7 in c:\\users\\usuario\\anaconda3\\lib\\site-packages (from pandas->factor-analyzer) (2023.3)\n",
      "Requirement already satisfied: joblib>=1.2.0 in c:\\users\\usuario\\anaconda3\\lib\\site-packages (from scikit-learn->factor-analyzer) (1.4.2)\n",
      "Requirement already satisfied: threadpoolctl>=3.1.0 in c:\\users\\usuario\\anaconda3\\lib\\site-packages (from scikit-learn->factor-analyzer) (3.6.0)\n",
      "Requirement already satisfied: six>=1.5 in c:\\users\\usuario\\anaconda3\\lib\\site-packages (from python-dateutil>=2.8.2->pandas->factor-analyzer) (1.16.0)\n"
     ]
    }
   ],
   "source": [
    "!pip install factor-analyzer\n"
   ]
  },
  {
   "cell_type": "code",
   "execution_count": 854,
   "id": "0616f278-1d0f-486e-aba9-1b4f93e37478",
   "metadata": {},
   "outputs": [
    {
     "name": "stdout",
     "output_type": "stream",
     "text": [
      "\n",
      " Tabla de cargas factoriales (con rotación Varimax):\n",
      "                     Factor 1  Factor 2\n",
      "Age                     0.755     0.000\n",
      "Education Level         0.725    -0.027\n",
      "Job Title_0            -0.099    -0.023\n",
      "Job Title_1             0.276     0.052\n",
      "Job Title_2             0.402     0.005\n",
      "Job Title_3             0.187     0.054\n",
      "Job Title_4             0.004     0.057\n",
      "Job Title_5             0.138     0.016\n",
      "Job Title_6             0.046     0.025\n",
      "Job Title_7            -0.024    -0.038\n",
      "Years of Experience     0.721    -0.010\n",
      "Salary                  0.569    -0.027\n",
      "Country_0               0.006     0.849\n",
      "Country_1              -0.027    -0.752\n",
      "Country_2               0.010    -0.105\n",
      "Race_0                 -0.019    -0.383\n",
      "Race_1                  0.007     0.582\n",
      "Race_2                 -0.029    -0.190\n",
      "Race_3                  0.006     0.030\n",
      "Senior                  0.294    -0.025\n",
      "\n",
      " Tabla de comunalidades y unicidades:\n",
      "                     Comunalidad (%)  Unicidad (%)\n",
      "Age                           56.950        43.050\n",
      "Education Level               52.700        47.300\n",
      "Job Title_0                    1.030        98.970\n",
      "Job Title_1                    7.870        92.130\n",
      "Job Title_2                   16.160        83.840\n",
      "Job Title_3                    3.770        96.230\n",
      "Job Title_4                    0.320        99.680\n",
      "Job Title_5                    1.930        98.070\n",
      "Job Title_6                    0.270        99.730\n",
      "Job Title_7                    0.200        99.800\n",
      "Years of Experience           51.970        48.030\n",
      "Salary                        32.470        67.530\n",
      "Country_0                     72.140        27.860\n",
      "Country_1                     56.590        43.410\n",
      "Country_2                      1.110        98.890\n",
      "Race_0                        14.740        85.260\n",
      "Race_1                        33.820        66.180\n",
      "Race_2                         3.700        96.300\n",
      "Race_3                         0.090        99.910\n",
      "Senior                         8.700        91.300\n"
     ]
    },
    {
     "name": "stderr",
     "output_type": "stream",
     "text": [
      "C:\\Users\\Usuario\\anaconda3\\Lib\\site-packages\\sklearn\\utils\\deprecation.py:151: FutureWarning: 'force_all_finite' was renamed to 'ensure_all_finite' in 1.6 and will be removed in 1.8.\n",
      "  warnings.warn(\n"
     ]
    },
    {
     "data": {
      "image/png": "[encoded data removed]",
      "text/plain": [
       "<Figure size 800x600 with 1 Axes>"
      ]
     },
     "metadata": {},
     "output_type": "display_data"
    }
   ],
   "source": [
    "# Tabla de cargas factoriales para los 2 factores (incluyendo rotación si se elige)\n",
    "import numpy as np\n",
    "import pandas as pd\n",
    "import matplotlib.pyplot as plt\n",
    "import seaborn as sns\n",
    "from scipy.stats import zscore\n",
    "from sklearn.decomposition import PCA\n",
    "from factor_analyzer import FactorAnalyzer\n",
    "\n",
    "X_scaled = X_encoded.apply(zscore)\n",
    "\n",
    "pca = PCA()\n",
    "pca.fit(X_scaled)\n",
    "eigenvalues = pca.explained_variance_\n",
    "\n",
    "num_factores = 2\n",
    "factor_analyzer = FactorAnalyzer(n_factors=num_factores, rotation='varimax')\n",
    "factor_analyzer.fit(X_scaled)\n",
    "\n",
    "cargas_rotadas = factor_analyzer.loadings_\n",
    "\n",
    "cargas_df = pd.DataFrame(\n",
    "    cargas_rotadas,\n",
    "    index=X_encoded.columns,\n",
    "    columns=[f'Factor {i+1}' for i in range(num_factores)]\n",
    ")\n",
    "\n",
    "print(\"\\n Tabla de cargas factoriales (con rotación Varimax):\")\n",
    "print(cargas_df.round(3))\n",
    "\n",
    "comunalidades = np.sum(cargas_rotadas**2, axis=1)\n",
    "unicidades = 1 - comunalidades\n",
    "\n",
    "comunalidades_df = pd.DataFrame({\n",
    "    'Comunalidad (%)': comunalidades * 100,\n",
    "    'Unicidad (%)': unicidades * 100\n",
    "}, index=X_encoded.columns)\n",
    "\n",
    "print(\"\\n Tabla de comunalidades y unicidades:\")\n",
    "print(comunalidades_df.round(2))\n",
    "\n",
    "umbral = 0.3\n",
    "variables_biplot = cargas_df[(cargas_df.abs() > umbral).any(axis=1)]\n",
    "\n",
    "fig, ax = plt.subplots(figsize=(8, 6))\n",
    "\n",
    "for i, variable in enumerate(variables_biplot.index):\n",
    "    plt.arrow(0, 0, cargas_rotadas[i, 0], cargas_rotadas[i, 1],\n",
    "              color='b', alpha=0.5, head_width=0.02, head_length=0.02)\n",
    "    plt.text(cargas_rotadas[i, 0], cargas_rotadas[i, 1], variable, fontsize=10)\n",
    "\n",
    "plt.axhline(0, color='grey', linewidth=0.5)\n",
    "plt.axvline(0, color='grey', linewidth=0.5)\n",
    "plt.xlabel(\"Factor 1\")\n",
    "plt.ylabel(\"Factor 2\")\n",
    "plt.title(\"Biplot de las variables con cargas > 0.3\")\n",
    "plt.grid(True)\n",
    "plt.show()\n",
    "\n"
   ]
  },
  {
   "cell_type": "code",
   "execution_count": 855,
   "id": "3567e7e0-db10-4bd2-bd9d-7e54afe4f2dc",
   "metadata": {},
   "outputs": [],
   "source": [
    "# Tabla de comunalidades y unicidades"
   ]
  },
  {
   "cell_type": "code",
   "execution_count": 856,
   "id": "af44a012-46eb-4b8d-9374-81998a83bf61",
   "metadata": {},
   "outputs": [],
   "source": [
    "# Filtrado de variables para representación biplot"
   ]
  },
  {
   "cell_type": "code",
   "execution_count": 857,
   "id": "92dc0c16-3a21-41ac-b330-2f91ac8858c4",
   "metadata": {},
   "outputs": [],
   "source": [
    "# Representación gráfica biplot de vectores de variables"
   ]
  },
  {
   "cell_type": "markdown",
   "id": "5484839c-c7b5-4dc9-937c-440b411b10c4",
   "metadata": {},
   "source": [
    "### Pregunta 15 ###\n",
    "Según los resultados mostrados, ¿Qué interpretación podemos hacer de los porcentajes de comunalidades y unicidades? En caso de obtener unicidades por debajo de 0, ¿A qué se debe?. Analizando el diagrama biplot, ¿Qué podemos concluir acerca de las variables representadas?"
   ]
  },
  {
   "cell_type": "markdown",
   "id": "c9b94a7a-77df-449a-96d8-3e18d032a603",
   "metadata": {},
   "source": [
    "***Respuesta:***"
   ]
  },
  {
   "cell_type": "markdown",
   "id": "e7e1c927-1151-46b2-9b96-f148dc79c1bd",
   "metadata": {},
   "source": [
    "Las variables con una alta comunalidad indican que explican bien su variabilidad (Age, Education Level, Years of Experience) a su vez hay variables que con baja comunalidad por lo que no están bien representadas por los factores seleccionados (Job Title_0, Job Title_7, Race_3, Country_2). De la misma manera, en aquellas variables con las unicidades altas indica que los factores no contienen información relevante de esas variables. Dentro del diagrama de Biplot, se muestran variables con altas cargas factoriales como Age, Education Level, Salary o Years of Experience que muestran su buena representación con los factores seleccionados. Sin embargo, otras variables como Race no están bien representadas y por eso no tiene una alta carga factorial. "
   ]
  },
  {
   "cell_type": "markdown",
   "id": "8f9d93b0-503b-4cda-a00b-44ae0e46bac8",
   "metadata": {},
   "source": [
    "Seguimos con el diseño de nuestro modelo para intentar distinguir entre *Male* y *Female* para cada uno de los registros del conjunto de datos. Para ello vamos a tratar de modelar la regresión logística.\n",
    "\n",
    "Vamos a tratar de reducir la dimensionalidad de nuestro conjunto de variables predictoras aplicando un método de regularización. De esta forma trataremos de diseñar un modelo de regresión logística con regularización que evite en la medida de lo posible la multicolinealidad y manteniendo la máxima información posible acerca de nuestra variable objetivo. \n",
    "\n",
    "En los siguientes bloques de código, se ha de terminar de transformar el conjunto de datos para que pueda ser utilizado en un modelo de regresión logística. Ya se realizó la binarización de la variable objetivo ***Gender*** pero ahora queda normalizar, estandarizar y demás operaciones que considere el alumno oportunas para este modelo."
   ]
  },
  {
   "cell_type": "code",
   "execution_count": 862,
   "id": "6bae396a-21e0-408e-b566-af5710faea10",
   "metadata": {},
   "outputs": [],
   "source": [
    "# Normalización y estandarización"
   ]
  },
  {
   "cell_type": "code",
   "execution_count": 863,
   "id": "776d4d8a-20ce-4a75-9420-0aa7bce37d37",
   "metadata": {},
   "outputs": [],
   "source": [
    "# Codificación de categóricas"
   ]
  },
  {
   "cell_type": "code",
   "execution_count": 864,
   "id": "87ff60e7-cdf6-4385-842f-a41338bc2f23",
   "metadata": {},
   "outputs": [
    {
     "name": "stdout",
     "output_type": "stream",
     "text": [
      "Accuracy en entrenamiento: 0.6681\n",
      "Accuracy en prueba: 0.6697\n"
     ]
    }
   ],
   "source": [
    "# etc\n",
    "\n",
    "import pandas as pd\n",
    "import numpy as np\n",
    "from sklearn.preprocessing import StandardScaler, OneHotEncoder\n",
    "from sklearn.model_selection import train_test_split\n",
    "from sklearn.linear_model import LogisticRegression\n",
    "from sklearn.pipeline import Pipeline\n",
    "from sklearn.compose import ColumnTransformer\n",
    "from sklearn.impute import SimpleImputer\n",
    "\n",
    "df = pd.read_csv(r\"C:\\Users\\Usuario\\Desktop\\Salary_MD.csv\")\n",
    "\n",
    "X = df.drop(columns=['Gender'])  \n",
    "y = df['Gender'].map({'Male': 1, 'Female': 0})  \n",
    "\n",
    "X = X[y.notnull()]\n",
    "y = y.dropna()\n",
    "\n",
    "num_features = X.select_dtypes(include=['int64', 'float64']).columns\n",
    "cat_features = X.select_dtypes(include=['object', 'category']).columns\n",
    "\n",
    "num_transformer = Pipeline([\n",
    "    ('imputer', SimpleImputer(strategy='mean')),\n",
    "    ('scaler', StandardScaler())\n",
    "])\n",
    "\n",
    "cat_transformer = Pipeline([\n",
    "    ('imputer', SimpleImputer(strategy='most_frequent')),\n",
    "    ('onehot', OneHotEncoder(handle_unknown='ignore'))\n",
    "])\n",
    "\n",
    "preprocessor = ColumnTransformer([\n",
    "    ('num', num_transformer, num_features),\n",
    "    ('cat', cat_transformer, cat_features)\n",
    "])\n",
    "\n",
    "X_train, X_test, y_train, y_test = train_test_split(X, y, test_size=0.2, random_state=42, stratify=y)\n",
    "\n",
    "model = Pipeline([\n",
    "    ('preprocessor', preprocessor),\n",
    "    ('classifier', LogisticRegression(penalty='l2', solver='liblinear'))  \n",
    "])\n",
    "\n",
    "\n",
    "model.fit(X_train, y_train)\n",
    "\n",
    "train_score = model.score(X_train, y_train)\n",
    "test_score = model.score(X_test, y_test)\n",
    "print(f\"Accuracy en entrenamiento: {train_score:.4f}\")\n",
    "print(f\"Accuracy en prueba: {test_score:.4f}\")"
   ]
  },
  {
   "cell_type": "markdown",
   "id": "72b4c775-c0ce-4ec4-83f0-326194836f1f",
   "metadata": {},
   "source": [
    "Una vez preparados los datos, pasamos a modelar la regresión logísitica aplicando una regularización LASSO. Queda a discreción del alumno la configuración del algoritmo de optimización de la función de coste y la fuerza de la regularización. Se deberán mostrar como resultado del entrenamiento los coeficientes de la regresión con la desviación estandar de los errores en su estimación, el logaritmo de la verosimilitud, el de logaritmo de la verosimilitud del modelo nulo, el pseudo-R2 y las métricas AIC y BIC."
   ]
  },
  {
   "cell_type": "code",
   "execution_count": 866,
   "id": "a2e6ef83-7552-401e-8af9-1751f249491a",
   "metadata": {},
   "outputs": [
    {
     "name": "stdout",
     "output_type": "stream",
     "text": [
      "\n",
      "🔹 Clasificación en datos de prueba:\n",
      "              precision    recall  f1-score   support\n",
      "\n",
      "           0       0.75      0.41      0.53       593\n",
      "           1       0.65      0.89      0.75       730\n",
      "\n",
      "    accuracy                           0.68      1323\n",
      "   macro avg       0.70      0.65      0.64      1323\n",
      "weighted avg       0.70      0.68      0.65      1323\n",
      "\n",
      "\n",
      "Coeficientes del modelo LASSO:\n",
      "                      Variable  Coeficiente\n",
      "0                          Age        0.180\n",
      "1              Education Level       -0.149\n",
      "2                       Salary        0.173\n",
      "3                       Senior        0.038\n",
      "4    Job Title_Account Manager        0.000\n",
      "..                         ...          ...\n",
      "140              Race_Hispanic        0.000\n",
      "141                Race_Korean        0.000\n",
      "142                 Race_Mixed        0.000\n",
      "143                 Race_Welsh        0.000\n",
      "144                 Race_White        0.000\n",
      "\n",
      "[145 rows x 2 columns]\n",
      "\n",
      "🔹 Log-verosimilitud: -0.6146\n",
      "🔹 Log-verosimilitud modelo nulo: -19.8880\n",
      "🔹 Pseudo-R²: 0.9691\n",
      "🔹 AIC: 291.2292\n",
      "🔹 BIC: 1244.3973\n"
     ]
    }
   ],
   "source": [
    "# Modelado con regularización LASSO\n",
    "import numpy as np\n",
    "import pandas as pd\n",
    "from sklearn.model_selection import train_test_split, GridSearchCV\n",
    "from sklearn.preprocessing import StandardScaler, OneHotEncoder\n",
    "from sklearn.impute import SimpleImputer\n",
    "from sklearn.pipeline import Pipeline\n",
    "from sklearn.compose import ColumnTransformer\n",
    "from sklearn.linear_model import LogisticRegression\n",
    "from sklearn.metrics import classification_report, log_loss\n",
    "\n",
    "\n",
    "df = pd.read_csv(r\"C:/Users/Usuario/Desktop/Salary_MD.csv\")\n",
    "\n",
    "df = df.dropna(subset=['Gender'])\n",
    "\n",
    "df['Gender'] = df['Gender'].map({'Male': 1, 'Female': 0})\n",
    "\n",
    "X = df.drop(columns=['Gender', 'Years of Experience'])\n",
    "y = df['Gender']\n",
    "\n",
    "cat_features = X.select_dtypes(include=['object']).columns.tolist()\n",
    "num_features = X.select_dtypes(exclude=['object']).columns.tolist()\n",
    "\n",
    "num_transformer = Pipeline([\n",
    "    ('imputer', SimpleImputer(strategy='median')),  \n",
    "    ('scaler', StandardScaler())                     \n",
    "])\n",
    "\n",
    "cat_transformer = Pipeline([\n",
    "    ('imputer', SimpleImputer(strategy='most_frequent')),  \n",
    "    ('encoder', OneHotEncoder(drop='first', handle_unknown='ignore'))\n",
    "])\n",
    "\n",
    "preprocessor = ColumnTransformer([\n",
    "    ('num', num_transformer, num_features),\n",
    "    ('cat', cat_transformer, cat_features)\n",
    "])\n",
    "\n",
    "X_transformed = preprocessor.fit_transform(X)\n",
    "\n",
    "if hasattr(X_transformed, \"toarray\"):\n",
    "    X_transformed = X_transformed.toarray()\n",
    "\n",
    "X_train, X_test, y_train, y_test = train_test_split(\n",
    "    X_transformed, y, test_size=0.2, random_state=42, stratify=y\n",
    ")\n",
    "\n",
    "param_grid = {'C': [0.0001, 0.001, 0.01, 0.1, 1, 10]}\n",
    "grid_search = GridSearchCV(\n",
    "    LogisticRegression(penalty='l1', solver='liblinear', max_iter=5000),\n",
    "    param_grid,\n",
    "    cv=5,\n",
    "    scoring='accuracy'\n",
    ")\n",
    "grid_search.fit(X_train, y_train)\n",
    "best_C = grid_search.best_params_['C']\n",
    "\n",
    "lasso_model = LogisticRegression(penalty='l1', solver='liblinear', C=best_C, max_iter=5000)\n",
    "lasso_model.fit(X_train, y_train)\n",
    "\n",
    "print(\"\\n🔹 Clasificación en datos de prueba:\")\n",
    "print(classification_report(y_test, lasso_model.predict(X_test)))\n",
    "\n",
    "encoded_features = preprocessor.named_transformers_['cat'].named_steps['encoder'].get_feature_names_out(cat_features)\n",
    "all_features = num_features + list(encoded_features)\n",
    "\n",
    "coef_df = pd.DataFrame({'Variable': all_features, 'Coeficiente': lasso_model.coef_[0]})\n",
    "print(\"\\nCoeficientes del modelo LASSO:\")\n",
    "print(coef_df)\n",
    "\n",
    "log_likelihood = -log_loss(y_test, lasso_model.predict_proba(X_test)[:, 1])\n",
    "null_log_likelihood = -log_loss(y_test, np.full_like(y_test, y_test.mean()))\n",
    "pseudo_r2 = 1 - (log_likelihood / null_log_likelihood)\n",
    "\n",
    "n = X_train.shape[0]\n",
    "k = X_train.shape[1]\n",
    "aic = 2 * k - 2 * log_likelihood\n",
    "bic = k * np.log(n) - 2 * log_likelihood\n",
    "\n",
    "print(f\"\\n🔹 Log-verosimilitud: {log_likelihood:.4f}\")\n",
    "print(f\"🔹 Log-verosimilitud modelo nulo: {null_log_likelihood:.4f}\")\n",
    "print(f\"🔹 Pseudo-R²: {pseudo_r2:.4f}\")\n",
    "print(f\"🔹 AIC: {aic:.4f}\")\n",
    "print(f\"🔹 BIC: {bic:.4f}\")\n"
   ]
  },
  {
   "cell_type": "code",
   "execution_count": null,
   "id": "f2081251-2cb8-4be5-be6f-8e99bd415ce7",
   "metadata": {},
   "outputs": [],
   "source": []
  },
  {
   "cell_type": "markdown",
   "id": "f316bc47-d0ae-45ef-8bee-3c26536766a5",
   "metadata": {},
   "source": [
    "### Pregunta 16 ###\n",
    "En vista de las métricas y resultados obtenidos, ¿qué tal ha predicho los valores del conjunto de entrenamiento? A partir de los coeficientes estimados, ¿Qué interpretación hacemos de los odds de la categoría *Mixed* de la variable ***Race*** y las categorías *Receptionist* y *Front End Developer* de la variable ***Job Title***? ¿Qué interpretamos del valor obtenido de la métrica Pseudo-R2?"
   ]
  },
  {
   "cell_type": "markdown",
   "id": "db347121-0370-4990-9ee7-fe5967b1e906",
   "metadata": {},
   "source": [
    "***Respuesta:***"
   ]
  },
  {
   "cell_type": "markdown",
   "id": "f6bcb3ed-16c2-4870-9bff-7ce1e512a7e1",
   "metadata": {},
   "source": [
    "El modelo tiene una precisión del 68% que por un lado identifica bien a los hombres en un 89% pero solo un 41% para identificar mujeres. La variable Race_Mixed no afecta a la hora de decidir si el registro es hombre o mujer ya que su coeficiente es 0. El valor de la métrica de Pseudo-R cuadrado, nos indica que el modelo explica bien la variabilidad de la variable Gender. "
   ]
  },
  {
   "cell_type": "raw",
   "id": "ba057b7d-e854-4bcd-aa34-8de31bd3c9f0",
   "metadata": {},
   "source": []
  },
  {
   "cell_type": "markdown",
   "id": "d449caf3-22f7-44af-889b-c105f44f6fdb",
   "metadata": {},
   "source": [
    "Para el conjunto de validación, utilizar el modelo entrenado para validarlo a través de métricas de validación como la precisión, exactitud, sensibilidad, etc., obtenidas a partir de la matriz de confusión. Mostrar la gráfica de la curva ROC y calcular el area bajo la curva."
   ]
  },
  {
   "cell_type": "code",
   "execution_count": 871,
   "id": "4fe539ef-792a-4b10-9d28-fe9723c0bea8",
   "metadata": {},
   "outputs": [],
   "source": [
    "# Clasificar los registros del conjunto de validación aplicando el modelo entrenado"
   ]
  },
  {
   "cell_type": "code",
   "execution_count": 872,
   "id": "82412d83-f0ac-48ec-92ba-c36dc0e35a3c",
   "metadata": {},
   "outputs": [],
   "source": [
    "# Calcular la matriz de confusión y sus métricas"
   ]
  },
  {
   "cell_type": "code",
   "execution_count": 873,
   "id": "68547c61-cd2e-4272-8672-5c40d778c96a",
   "metadata": {},
   "outputs": [],
   "source": [
    "# Mostrar la curva ROC y calcular el area bajo la curva."
   ]
  },
  {
   "cell_type": "code",
   "execution_count": 874,
   "id": "00005648-dfb8-49da-9363-8dc3facc9266",
   "metadata": {},
   "outputs": [
    {
     "name": "stdout",
     "output_type": "stream",
     "text": [
      "🔹 Matriz de Confusión:\n",
      "[[246 347]\n",
      " [ 81 649]]\n",
      "\n",
      "🔹 Métricas de validación:\n",
      "Exactitud (Accuracy): 0.6765\n",
      "Precisión (Precision): 0.6516\n",
      "Sensibilidad (Recall): 0.8890\n",
      "Especificidad (Specificity): 0.4148\n",
      "F1-score: 0.7520\n"
     ]
    },
    {
     "data": {
      "image/png": "[encoded data removed]",
      "text/plain": [
       "<Figure size 800x600 with 1 Axes>"
      ]
     },
     "metadata": {},
     "output_type": "display_data"
    },
    {
     "name": "stdout",
     "output_type": "stream",
     "text": [
      "\n",
      "🔹 Área bajo la curva (AUC-ROC): 0.7267\n"
     ]
    }
   ],
   "source": [
    "import numpy as np\n",
    "import pandas as pd\n",
    "import matplotlib.pyplot as plt\n",
    "import seaborn as sns\n",
    "from sklearn.model_selection import train_test_split\n",
    "from sklearn.metrics import (\n",
    "    confusion_matrix, classification_report, roc_curve, roc_auc_score, accuracy_score, precision_score, recall_score, f1_score\n",
    ")\n",
    "\n",
    "y_val_pred = lasso_model.predict(X_test)\n",
    "y_val_proba = lasso_model.predict_proba(X_test)[:, 1]  \n",
    "\n",
    "cm = confusion_matrix(y_test, y_val_pred)\n",
    "tn, fp, fn, tp = cm.ravel()\n",
    "\n",
    "accuracy = accuracy_score(y_test, y_val_pred)\n",
    "precision = precision_score(y_test, y_val_pred)\n",
    "recall = recall_score(y_test, y_val_pred)\n",
    "specificity = tn / (tn + fp)  \n",
    "f1 = f1_score(y_test, y_val_pred)\n",
    "\n",
    "print(\"🔹 Matriz de Confusión:\")\n",
    "print(cm)\n",
    "print(\"\\n🔹 Métricas de validación:\")\n",
    "print(f\"Exactitud (Accuracy): {accuracy:.4f}\")\n",
    "print(f\"Precisión (Precision): {precision:.4f}\")\n",
    "print(f\"Sensibilidad (Recall): {recall:.4f}\")\n",
    "print(f\"Especificidad (Specificity): {specificity:.4f}\")\n",
    "print(f\"F1-score: {f1:.4f}\")\n",
    "\n",
    "fpr, tpr, _ = roc_curve(y_test, y_val_proba)\n",
    "auc_roc = roc_auc_score(y_test, y_val_proba)\n",
    "\n",
    "plt.figure(figsize=(8, 6))\n",
    "plt.plot(fpr, tpr, color=\"blue\", label=f\"AUC = {auc_roc:.4f}\")\n",
    "plt.plot([0, 1], [0, 1], color=\"gray\", linestyle=\"--\")  # Línea base\n",
    "plt.xlabel(\"Tasa de falsos positivos (FPR)\")\n",
    "plt.ylabel(\"Tasa de verdaderos positivos (TPR)\")\n",
    "plt.title(\"Curva ROC\")\n",
    "plt.legend()\n",
    "plt.show()\n",
    "\n",
    "print(f\"\\n🔹 Área bajo la curva (AUC-ROC): {auc_roc:.4f}\")\n"
   ]
  },
  {
   "cell_type": "markdown",
   "id": "51ab434b-dc9c-4843-85e1-551137dbd378",
   "metadata": {},
   "source": [
    "### Pregunta 17 ###\n",
    "Realizar una interpretación de los resultados obtenidos en las métricas: accuracy y recall (para ambas categorías 0 y 1). ¿Cuál es el valor del area bajo la curva obtenido? ¿Qué conclusión sobre el modelo obtenemos a partir de este valor? ¿Y cual sería la conclusión general del modelo en base a todos los resultados obtenidos?"
   ]
  },
  {
   "cell_type": "markdown",
   "id": "d117646a-bdc7-4555-9236-2251f33eb847",
   "metadata": {},
   "source": [
    "***Respuesta:***"
   ]
  },
  {
   "cell_type": "markdown",
   "id": "92189a2d-8c07-42ed-914f-c294d18eec5e",
   "metadata": {},
   "source": [
    "Representa que el modelo tiene un 67,65% de predicciones correctas además por el recall podemos ver que un 88,90% de los hombres fueron correctamente identificados. El valor de la curva ROC es de 0.7267 lo que es una capacidad del modelo más o menos moderada de distinguir entre hombres y mujeres. \n",
    "\n",
    "En general, el modelo tiene una capacidad predictiva moderada pero identifica muy bien a los hombres mientras que tiene mucho margen de mejora en el caso de mujeres, esto puede ser debido a que el dataset tiene datos desbalanceados. "
   ]
  },
  {
   "cell_type": "markdown",
   "id": "48bd19ae-c49c-414c-98ba-149ee7d8f84e",
   "metadata": {},
   "source": [
    "Cambiamos de tercio y pasamos ahora a trabajar con todo el conjunto de datos completo (incluyendo la variable ***Gender***) ya que vamos a realizar un clustering sobre todo el conjunto para ver qué grupos o segmentos encontramos más representativos en los datos. Empezaremos cargando un fichero nuevo que contiene los mismos datos pero sin la necesidad de tratar o trabajar nulos y outliers. El fichero se llama *Salary.csv*.\n",
    "\n",
    "El clustering que vamos a realizar sobre estos datos es un clustering jerarquico aglomerativo. Para ello prepararemos los datos categorizando algunas variables según se considere oportuno, agruparemos categorías de variables categóricas si procede, normalizaremos y/o estandarizaremos, codificaremos variables categóricas, etc. Muchos de estos pasos son comunes con los ejercicios anteriores por lo que será sencillo repetir algunos de estos pasos. Otros podrán añadirse en función de lo que el alumno considere teniendo en cuenta el ejercicio de clusterización que vamos a llevar a cabo.\n",
    "\n",
    "Las siguientes lineas de código deben llevar a cabo estas transformaciones.\n",
    "\n",
    "Por sencillez a la hora de interpretar resultados, se recomienda trabajar sobre una copia del conjunto de datos original para poder extraer métricas a partir de los datos sin transformar."
   ]
  },
  {
   "cell_type": "code",
   "execution_count": 879,
   "id": "f860bd94-4c9d-4770-af4a-c64fb72028d9",
   "metadata": {},
   "outputs": [],
   "source": [
    "# Categorización de variables numericas"
   ]
  },
  {
   "cell_type": "code",
   "execution_count": 880,
   "id": "96837a29-3d4d-4c04-a490-01c5e403a793",
   "metadata": {},
   "outputs": [],
   "source": [
    "# Codificación de categóricas"
   ]
  },
  {
   "cell_type": "code",
   "execution_count": 881,
   "id": "665538e1-8db7-4068-83fa-ee2fb3cdfd8e",
   "metadata": {},
   "outputs": [],
   "source": [
    "# Normalización / Estandarización"
   ]
  },
  {
   "cell_type": "code",
   "execution_count": 882,
   "id": "8e8415df-5783-408a-bb7a-8e348d84c168",
   "metadata": {},
   "outputs": [],
   "source": [
    "# etc"
   ]
  },
  {
   "cell_type": "code",
   "execution_count": 883,
   "id": "64a75396-dab5-4b8d-900a-3bb3572606b5",
   "metadata": {},
   "outputs": [
    {
     "name": "stdout",
     "output_type": "stream",
     "text": [
      "Datos preparados correctamente para clustering.\n"
     ]
    }
   ],
   "source": [
    "import pandas as pd\n",
    "import numpy as np\n",
    "from sklearn.preprocessing import StandardScaler, OneHotEncoder\n",
    "from sklearn.pipeline import Pipeline\n",
    "from sklearn.compose import ColumnTransformer\n",
    "\n",
    "\n",
    "df = pd.read_csv(\"C:/Users/Usuario/Desktop/Salary_MD.csv\")\n",
    "\n",
    "df_original = df.copy()\n",
    "\n",
    "df['Salary_Category'] = pd.qcut(df['Salary'], q=4, labels=['Bajo', 'Medio-Bajo', 'Medio-Alto', 'Alto'])\n",
    "df['Age_Group'] = pd.cut(df['Age'], bins=[18, 30, 40, 50, 65], labels=['Joven', 'Adulto Joven', 'Adulto', 'Mayor'])\n",
    "\n",
    "job_counts = df['Job Title'].value_counts()\n",
    "rare_jobs = job_counts[job_counts < 10].index  \n",
    "df['Job Title'] = df['Job Title'].replace(rare_jobs, 'Other')\n",
    "\n",
    "df = df.drop(columns=['Salary_Category', 'Age_Group'])\n",
    "\n",
    "cat_features = df.select_dtypes(include=['object']).columns.to_list()\n",
    "num_features = df.select_dtypes(exclude=['object']).columns.to_list()\n",
    "\n",
    "num_transformer = Pipeline([\n",
    "    ('scaler', StandardScaler())  \n",
    "])\n",
    "cat_transformer = Pipeline([\n",
    "    ('encoder', OneHotEncoder(drop='first', handle_unknown='ignore'))  \n",
    "])\n",
    "preprocessor = ColumnTransformer([\n",
    "    ('num', num_transformer, num_features),\n",
    "    ('cat', cat_transformer, cat_features)\n",
    "])\n",
    "X_transformed = preprocessor.fit_transform(df)\n",
    "if hasattr(X_transformed, \"toarray\"):\n",
    "    X_transformed = X_transformed.toarray()\n",
    "\n",
    "print(\"Datos preparados correctamente para clustering.\")\n",
    "\n"
   ]
  },
  {
   "cell_type": "markdown",
   "id": "743a379e-7274-409f-8719-ba1ae7f50746",
   "metadata": {},
   "source": [
    "A continuación procedemos a definir la función de enlace para el algoritmo jerarquico aglomerativo. Se requiere porbar al menos 2 funciones de enlace y hacer todo el proceso de clusterización completo para dichas funciones. Crear las matrices de distancias basadas en dichas funciones y mostrar los dendogramas de la clusterización, a ser posible indicando con colores selección de clusters."
   ]
  },
  {
   "cell_type": "code",
   "execution_count": 885,
   "id": "20ced0a9-13e1-41b2-aea7-4379336cd8c9",
   "metadata": {},
   "outputs": [],
   "source": [
    "# Crear las matrices de distancias para lsa funciones de enlace escogidas"
   ]
  },
  {
   "cell_type": "code",
   "execution_count": 886,
   "id": "7dd90ae6-8640-47c2-a670-f57d10972369",
   "metadata": {},
   "outputs": [],
   "source": [
    "# Mostrar los dendogramas"
   ]
  },
  {
   "cell_type": "code",
   "execution_count": 887,
   "id": "264525a2-a123-41f8-8cdb-e3decad05334",
   "metadata": {},
   "outputs": [
    {
     "data": {
      "image/png": "[encoded data removed]",
      "text/plain": [
       "<Figure size 1200x500 with 2 Axes>"
      ]
     },
     "metadata": {},
     "output_type": "display_data"
    }
   ],
   "source": [
    "import numpy as np\n",
    "import scipy.cluster.hierarchy as sch\n",
    "import matplotlib.pyplot as plt\n",
    "from scipy.spatial.distance import pdist\n",
    "from sklearn.preprocessing import StandardScaler\n",
    "\n",
    "X_transformed = np.nan_to_num(X_transformed)\n",
    "\n",
    "distance_matrix = pdist(X_transformed, metric='euclidean')\n",
    "\n",
    "linkage_methods = [\"ward\", \"complete\"]\n",
    "\n",
    "plt.figure(figsize=(12, 5))\n",
    "\n",
    "for i, method in enumerate(linkage_methods):\n",
    "    Z = sch.linkage(distance_matrix, method=method) \n",
    "\n",
    "    plt.subplot(1, 2, i + 1)\n",
    "    plt.title(f\"Dendrograma - Método {method.capitalize()}\")\n",
    "    sch.dendrogram(Z, truncate_mode=\"level\", p=5, color_threshold=0.7 * max(Z[:, 2])) \n",
    "    plt.xlabel(\"Índices de Datos\")\n",
    "    plt.ylabel(\"Distancia\")\n",
    "\n",
    "plt.tight_layout()\n",
    "plt.show()\n"
   ]
  },
  {
   "cell_type": "markdown",
   "id": "5205f20c-97ea-474f-9312-c801fd04c909",
   "metadata": {},
   "source": [
    "### Pregunta 18 ###\n",
    "A la vista de los resultados, para cada función de enlace escogida, ¿En cuántos clusters se ha decidido agrupar los datos?"
   ]
  },
  {
   "cell_type": "markdown",
   "id": "a7a0bee6-9d12-4045-ab57-bd9bf9d554e4",
   "metadata": {},
   "source": [
    "***Respuesta:***"
   ]
  },
  {
   "cell_type": "markdown",
   "id": "4713fda9-a593-401a-9d91-148fa57623ea",
   "metadata": {},
   "source": [
    "Se ha decidido agrupar en 3 clusters distintos."
   ]
  },
  {
   "cell_type": "markdown",
   "id": "a03ba219-17a4-45c3-9e47-d66e501c2399",
   "metadata": {},
   "source": [
    "A continuación crear varias columnas nuevas sobre el dataframe original (una por cada función de enlace con que se haya decidido trabajar) y almacenar en ellas para cada registro el número de cluster que le corresponde según la clusterización realizada. Después realizar una serie de agrupaciones y métricas que permitan entender o interpretar la naturaleza de cada cluster."
   ]
  },
  {
   "cell_type": "code",
   "execution_count": 892,
   "id": "e2a20678-18a2-433e-b500-230cf32078c4",
   "metadata": {},
   "outputs": [
    {
     "name": "stdout",
     "output_type": "stream",
     "text": [
      "Distribución de clusters (Ward):\n",
      "Cluster_Ward\n",
      "3    3141\n",
      "1    2396\n",
      "2     924\n",
      "Name: count, dtype: int64\n",
      "\n",
      "Métricas de agrupación - Método Ward:\n",
      "                Age  Education Level  Years of Experience     Salary  Senior\n",
      "Cluster_Ward                                                                \n",
      "1            26.795            0.855                3.035  69521.770   0.004\n",
      "2            39.832            2.215               12.791 144245.753   1.000\n",
      "3            36.293            2.043               10.803 144396.137   0.001\n"
     ]
    }
   ],
   "source": [
    "import pandas as pd\n",
    "import numpy as np\n",
    "import scipy.cluster.hierarchy as sch\n",
    "from scipy.spatial.distance import pdist\n",
    "from sklearn.preprocessing import StandardScaler\n",
    "\n",
    "\n",
    "df = pd.read_csv(\"C:/Users/Usuario/Desktop/Salary_MD.csv\")\n",
    "\n",
    "df.dropna(inplace=True)  \n",
    "\n",
    "numeric_cols = df.select_dtypes(include=[np.number]).columns\n",
    "scaler = StandardScaler()\n",
    "df_scaled = scaler.fit_transform(df[numeric_cols])\n",
    "\n",
    "\n",
    "distance_matrix = pdist(df_scaled, metric=\"euclidean\")\n",
    "\n",
    "\n",
    "if np.any(~np.isfinite(distance_matrix)):\n",
    "    raise ValueError(\"La matriz de distancias contiene valores no finitos.\")\n",
    "\n",
    "num_clusters = 3  \n",
    "\n",
    "df[\"Cluster_Ward\"] = sch.fcluster(sch.linkage(distance_matrix, method=\"ward\"), num_clusters, criterion=\"maxclust\")\n",
    "df[\"Cluster_Complete\"] = sch.fcluster(sch.linkage(distance_matrix, method=\"complete\"), num_clusters, criterion=\"maxclust\")\n",
    "\n",
    "print(\"Distribución de clusters (Ward):\")\n",
    "print(df[\"Cluster_Ward\"].value_counts())\n",
    "\n",
    "print(\"\\nMétricas de agrupación - Método Ward:\")\n",
    "print(df.groupby(\"Cluster_Ward\")[numeric_cols].mean(numeric_only=True))"
   ]
  },
  {
   "cell_type": "code",
   "execution_count": 893,
   "id": "6faff95f-f003-4a72-90cd-801451975f24",
   "metadata": {},
   "outputs": [],
   "source": [
    "# Obtener métricas para interpretar los clustering obtenidos"
   ]
  },
  {
   "cell_type": "markdown",
   "id": "4f593c06-670e-4b90-93cc-d11dc1fa9007",
   "metadata": {},
   "source": [
    "### Pregunta 19 ###\n",
    "Hacer una interpretación de los resultados para cada función de enlace indicando el sentido que pueda tener cada uno de los clusters."
   ]
  },
  {
   "cell_type": "markdown",
   "id": "5d282b66-d7b9-4f41-8bbf-0d8c47f39482",
   "metadata": {},
   "source": [
    "***Respuesta:***"
   ]
  },
  {
   "cell_type": "markdown",
   "id": "544676b6-0b3c-4c34-9765-fe6336aa65b6",
   "metadata": {},
   "source": [
    "En primer lugar elegimos el método ward ya que es el que mejor representa los 3 clusters seleccionados, \n",
    "\n",
    "El primer cluster es referido a personas más jóvenes con menor nivel de educación, menor cantidad de años de experiencia y un salario menor.\n",
    "El segundo cluster contiene a gente más experimentada con una media de edad superior y un salario más elevado además de ser característicos del apartado Senior en sus puestos de trabajo. \n",
    "El tercer cluster está muy relacionado con el segundo en cuanto a características solo que son perfiles con un poco menos edad que contienen algunos años menos de experiencia con un salario similar pero no contienen la característica de Senior en sus puestos laborales. \n",
    "\n",
    "\n"
   ]
  }
 ],
 "metadata": {
  "kernelspec": {
   "display_name": "Python 3 (ipykernel)",
   "language": "python",
   "name": "python3"
  },
  "language_info": {
   "codemirror_mode": {
    "name": "ipython",
    "version": 3
   },
   "file_extension": ".py",
   "mimetype": "text/x-python",
   "name": "python",
   "nbconvert_exporter": "python",
   "pygments_lexer": "ipython3",
   "version": "3.12.4"
  }
 },
 "nbformat": 4,
 "nbformat_minor": 5
}
